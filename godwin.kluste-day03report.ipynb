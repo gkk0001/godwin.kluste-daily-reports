{
 "cells": [
  {
   "cell_type": "markdown",
   "metadata": {
    "id": "vuZYRaBzbIcs"
   },
   "source": [
    "## Practical 1: Version Control with Git: `local` "
   ]
  },
  {
   "cell_type": "markdown",
   "metadata": {},
   "source": [
    "<left> <b> <span style=\"color:red;\"> \n",
    "This notebook is focused on version control with a local repository. You are expected to go through it line by line, step by step. Execute each code cell and follow the instructions to understand how to manage version control locally. Experiment with commands, make changes, and observe how they affect your repository. Your hands-on interaction with the examples will enhance your comprehension of local version control practices.\n",
    "</span> </b></left>\n",
    "\n",
    "\n",
    "## You might find [this reference](https://ndpsoftware.com/git-cheatsheet.html#loc=index;) ,   [this command list](https://git-scm.com/docs) as well as  this [resource](https://git-scm.com/docs/gittutorial) very useful for this practical."
   ]
  },
  {
   "cell_type": "markdown",
   "metadata": {
    "id": "be02507b"
   },
   "source": [
    "### What is Version Control ?\n",
    "\n",
    "\n",
    "In software development, revision control systems (RCS) are essential tools. They are widely used across all development environments and by developers everywhere.\n",
    "\n",
    "RCS are versatile and not limited to just software projects; they are also invaluable for managing various types of digital content, including manuscripts, figures, data, and notebooks.\n",
    "\n",
    "Revision control systems (RCS) serve two primary purposes:\n",
    "\n",
    "1. **Track Changes in Source Code:**\n",
    "   - Enable tracking and managing changes to the source code.\n",
    "   - Allow reverting to previous versions if issues arise.\n",
    "   - Support working on multiple \"branches\" of the software at the same time.\n",
    "   - Use tags to identify and manage different versions, such as \"release-1.0\" or \"paper-A-final.\"\n",
    "\n",
    "2. **Facilitate Collaborative Development:**\n",
    "   - Allow multiple contributors to work on the same codebase simultaneously.\n",
    "   - Enable numerous authors to make and integrate changes.\n",
    "   - Provide clear communication and visualization of changes to all team members.\n",
    "\n",
    "\n",
    "\n",
    "\n",
    "### Basic Principles and Terminology of Revision Control Systems (RCS)\n",
    "\n",
    "In an RCS, source code or digital content is managed within a repository.\n",
    "\n",
    "- **Repository:** Stores not only the latest version of files but also the complete history of all changes made to these files since their initial addition to the repository.\n",
    "\n",
    "- **Checkout:** Users obtain a local working copy of the files from the repository. Changes are made to these local files, allowing for additions, deletions, and updates.\n",
    "\n",
    "- **Commit:** After completing a task, changes made to the local files are saved back to the repository.\n",
    "\n",
    "- **Conflict Resolution:** If changes have been made by others to the same files, conflicts may arise. The system often resolves conflicts automatically, but manual intervention may be necessary to merge conflicting changes.\n",
    "\n",
    "- **Branches and Forks:** For larger experimental developments, it’s common to create a new branch, fork, or clone of the repository. The primary branch is usually called `master` or `trunk`. Once work on a branch or fork is finished, it can be merged back into the main branch or repository.\n",
    "\n",
    "- **Distributed RCS:** Systems like Git or Mercurial allow for pulling and pushing changesets between different repositories. For instance, changes can be pushed from a local repository to a central online repository, such as those hosted on platforms like GitHub.\n",
    "\n",
    "\n",
    "In a few words, **version control** is a way to keep a backup of the changes in your\n",
    "files and to store a history of those changes.  The key charateristic of VC is that and it\n",
    "allows many people in a collaboration to make changes to the same files\n",
    "concurrently. VC is done via a VC system and there are a lot of them. [Wikipedia](https://en.wikipedia.org/wiki/Version_control)\n",
    "provides both a nice vocabulary list and a fairly complete table of some\n",
    "popular version control systems and their equivalent commands.\n",
    "\n",
    "\n",
    "\n",
    "### Popular Revision Control Systems\n",
    "\n",
    "- **Git (git):** [http://git-scm.com/](http://git-scm.com/)\n",
    "- **Mercurial (hg):** [http://mercurial.selenic.com/](http://mercurial.selenic.com/)\n",
    "\n",
    "In the remainder of this lecture, we will focus on Git. However, Mercurial is equally effective and operates in a very similar manner.\n",
    "\n",
    "We'll be using git. `Git` is an example of a distributed version control system, distinct from centralized versing control systems. I'll not discuss the distinction, but for now, the table below will\n",
    "suffice.\n",
    "\n",
    "Version Control System Tool Options\n",
    "\n",
    "- **Distributed** \n",
    "  - Decentralized CVS (dcvs)  \n",
    "  - mercurial (hg)\n",
    "  - git (git) \n",
    "  - bazaar (bzr)\n",
    "  \n",
    "- **Centralized**\n",
    "  - concurrent versions system (cvs)\n",
    "  - subversion (svn)"
   ]
  },
  {
   "cell_type": "markdown",
   "metadata": {},
   "source": [
    "## git --help : Getting Help\n",
    "\n",
    "The first thing you should know about any **tool** is how to get **help**. From the command line type\n",
    "\n",
    "```bash\n",
    "$ man git\n",
    "```\n",
    "\n",
    "If you remember from the **shell class**, **man** tells you more about a command and how to use it. The manual entry for the git version control system will appear before you. You may scroll through it using arrows, or you can search for\n",
    "keywords by typing **/** followed by the search term. I'm interested in help, so I type **/help** and then hit enter. It looks like the syntax for getting help with git is **git --help**."
   ]
  },
  {
   "cell_type": "code",
   "execution_count": 6,
   "metadata": {},
   "outputs": [
    {
     "name": "stdout",
     "output_type": "stream",
     "text": [
      "usage: git [-v | --version] [-h | --help] [-C <path>] [-c <name>=<value>]\n",
      "           [--exec-path[=<path>]] [--html-path] [--man-path] [--info-path]\n",
      "           [-p | --paginate | -P | --no-pager] [--no-replace-objects] [--bare]\n",
      "           [--git-dir=<path>] [--work-tree=<path>] [--namespace=<name>]\n",
      "           [--config-env=<name>=<envvar>] <command> [<args>]\n",
      "\n",
      "These are common Git commands used in various situations:\n",
      "\n",
      "start a working area (see also: git help tutorial)\n",
      "   clone     Clone a repository into a new directory\n",
      "   init      Create an empty Git repository or reinitialize an existing one\n",
      "\n",
      "work on the current change (see also: git help everyday)\n",
      "   add       Add file contents to the index\n",
      "   mv        Move or rename a file, a directory, or a symlink\n",
      "   restore   Restore working tree files\n",
      "   rm        Remove files from the working tree and from the index\n",
      "\n",
      "examine the history and state (see also: git help revisions)\n",
      "   bisect    Use binary search to find the commit that introduced a bug\n",
      "   diff      Show changes between commits, commit and working tree, etc\n",
      "   grep      Print lines matching a pattern\n",
      "   log       Show commit logs\n",
      "   show      Show various types of objects\n",
      "   status    Show the working tree status\n",
      "\n",
      "grow, mark and tweak your common history\n",
      "   branch    List, create, or delete branches\n",
      "   commit    Record changes to the repository\n",
      "   merge     Join two or more development histories together\n",
      "   rebase    Reapply commits on top of another base tip\n",
      "   reset     Reset current HEAD to the specified state\n",
      "   switch    Switch branches\n",
      "   tag       Create, list, delete or verify a tag object signed with GPG\n",
      "\n",
      "collaborate (see also: git help workflows)\n",
      "   fetch     Download objects and refs from another repository\n",
      "   pull      Fetch from and integrate with another repository or a local branch\n",
      "   push      Update remote refs along with associated objects\n",
      "\n",
      "'git help -a' and 'git help -g' list available subcommands and some\n",
      "concept guides. See 'git help <command>' or 'git help <concept>'\n",
      "to read about a specific subcommand or concept.\n",
      "See 'git help git' for an overview of the system.\n"
     ]
    }
   ],
   "source": [
    "! git"
   ]
  },
  {
   "cell_type": "markdown",
   "metadata": {
    "id": "fee39700"
   },
   "source": [
    "To exit the manual page, type `q`.\n",
    "\n",
    "Let's see what happens when we type :\n",
    "\n",
    "```bash\n",
    "$ git --help\n",
    "```\n",
    "\n",
    "Excellent, it gives a list of commands it is able to help with, as well as their descriptions.\n",
    "\n",
    "```bash\n",
    "$  git help <command>' for more information on a specific command.\n",
    "```"
   ]
  },
  {
   "cell_type": "code",
   "execution_count": 10,
   "metadata": {},
   "outputs": [
    {
     "name": "stdout",
     "output_type": "stream",
     "text": [
      "usage: git [-v | --version] [-h | --help] [-C <path>] [-c <name>=<value>]\n",
      "           [--exec-path[=<path>]] [--html-path] [--man-path] [--info-path]\n",
      "           [-p | --paginate | -P | --no-pager] [--no-replace-objects] [--bare]\n",
      "           [--git-dir=<path>] [--work-tree=<path>] [--namespace=<name>]\n",
      "           [--config-env=<name>=<envvar>] <command> [<args>]\n",
      "\n",
      "These are common Git commands used in various situations:\n",
      "\n",
      "start a working area (see also: git help tutorial)\n",
      "   clone     Clone a repository into a new directory\n",
      "   init      Create an empty Git repository or reinitialize an existing one\n",
      "\n",
      "work on the current change (see also: git help everyday)\n",
      "   add       Add file contents to the index\n",
      "   mv        Move or rename a file, a directory, or a symlink\n",
      "   restore   Restore working tree files\n",
      "   rm        Remove files from the working tree and from the index\n",
      "\n",
      "examine the history and state (see also: git help revisions)\n",
      "   bisect    Use binary search to find the commit that introduced a bug\n",
      "   diff      Show changes between commits, commit and working tree, etc\n",
      "   grep      Print lines matching a pattern\n",
      "   log       Show commit logs\n",
      "   show      Show various types of objects\n",
      "   status    Show the working tree status\n",
      "\n",
      "grow, mark and tweak your common history\n",
      "   branch    List, create, or delete branches\n",
      "   commit    Record changes to the repository\n",
      "   merge     Join two or more development histories together\n",
      "   rebase    Reapply commits on top of another base tip\n",
      "   reset     Reset current HEAD to the specified state\n",
      "   switch    Switch branches\n",
      "   tag       Create, list, delete or verify a tag object signed with GPG\n",
      "\n",
      "collaborate (see also: git help workflows)\n",
      "   fetch     Download objects and refs from another repository\n",
      "   pull      Fetch from and integrate with another repository or a local branch\n",
      "   push      Update remote refs along with associated objects\n",
      "\n",
      "'git help -a' and 'git help -g' list available subcommands and some\n",
      "concept guides. See 'git help <command>' or 'git help <concept>'\n",
      "to read about a specific subcommand or concept.\n",
      "See 'git help git' for an overview of the system.\n"
     ]
    }
   ],
   "source": [
    "! git --help"
   ]
  },
  {
   "cell_type": "markdown",
   "metadata": {
    "id": "da6e3f66"
   },
   "source": [
    "## git config : Controls the behavior of git\n",
    "A few settings are in order. You don't have to do it now but it is recommanded.\n",
    "\n",
    "```bash\n",
    "$ git config --global user.name \"YOUR NAME\"\n",
    "$ git config --global user.email \"YOUR EMAIL\"\n",
    "```     "
   ]
  },
  {
   "cell_type": "code",
   "execution_count": 11,
   "metadata": {},
   "outputs": [],
   "source": [
    "! git config --global user.name \"GODWIN KOFI KLUTSE\""
   ]
  },
  {
   "cell_type": "code",
   "execution_count": 12,
   "metadata": {},
   "outputs": [],
   "source": [
    "! git config --global user.email \"godwin.kluste@aims.ac.rw\""
   ]
  },
  {
   "cell_type": "markdown",
   "metadata": {
    "id": "1b56ee4f"
   },
   "source": [
    "## git init : Creating a Local Repository\n",
    "\n",
    "To keep track of numerous versions of your work without saving numerous\n",
    "copies, you can make a local repository for it on your computer. What git\n",
    "does is to save the first version, then for each subsequent version it\n",
    "saves only the changes. This is the trick, git only records the difference between\n",
    "the new version and the one before it. With this compact information,\n",
    "git is able to recreate any version on demand by adding the changes to\n",
    "the original in order up to the version of interest.\n",
    "\n",
    "To create your own local (on your own machine) repository, you must\n",
    "initialize the repository with the infrastructure git needs in order to\n",
    "keep a record of things within the repository that you're concerned\n",
    "about. The command to do this is **git init** ."
   ]
  },
  {
   "cell_type": "code",
   "execution_count": 14,
   "metadata": {},
   "outputs": [
    {
     "name": "stdout",
     "output_type": "stream",
     "text": [
      "Initialized empty Git repository in C:/Users/HP/Downloads/.git/\n"
     ]
    }
   ],
   "source": [
    "! git init"
   ]
  },
  {
   "cell_type": "markdown",
   "metadata": {
    "id": "884dc97c"
   },
   "source": [
    "* * * * \n",
    "### Practical : Create a Local Repository\n",
    "\n",
    "Step 1 : Initialize your repository. Navigate to `/home`\n",
    "\n",
    "```bash\n",
    "$ cd\n",
    "$ mkdir simplestats\n",
    "$ cd simplestats\n",
    "$ git init\n",
    "Initialized empty Git repository in /home/me/simplestats/.git/\n",
    "```\n"
   ]
  },
  {
   "cell_type": "code",
   "execution_count": 23,
   "metadata": {},
   "outputs": [
    {
     "name": "stdout",
     "output_type": "stream",
     "text": [
      "C:\\Users\\HP\\Downloads\n"
     ]
    }
   ],
   "source": [
    "! cd"
   ]
  },
  {
   "cell_type": "code",
   "execution_count": 24,
   "metadata": {},
   "outputs": [
    {
     "name": "stderr",
     "output_type": "stream",
     "text": [
      "A subdirectory or file simplestats already exists.\n"
     ]
    }
   ],
   "source": [
    "! mkdir simplestats"
   ]
  },
  {
   "cell_type": "code",
   "execution_count": 33,
   "metadata": {},
   "outputs": [
    {
     "name": "stdout",
     "output_type": "stream",
     "text": [
      "C:\\Users\\HP\\Downloads\\simplestats\n"
     ]
    }
   ],
   "source": [
    "cd simplestats"
   ]
  },
  {
   "cell_type": "code",
   "execution_count": 34,
   "metadata": {},
   "outputs": [
    {
     "name": "stdout",
     "output_type": "stream",
     "text": [
      "Initialized empty Git repository in C:/Users/HP/Downloads/simplestats/.git/\n"
     ]
    }
   ],
   "source": [
    "! git init"
   ]
  },
  {
   "cell_type": "markdown",
   "metadata": {},
   "source": [
    "Step 2 : Browse the directory's hidden files to see what happened here.\n",
    "Open directories, browse file contents. Learn what you can in a minute.\n",
    "\n",
    "```bash\n",
    "$ ls -A .git\n",
    "$ cd .git\n",
    "$ ls -A\n",
    "HEAD        config      description hooks       info        objects     refs      branches\n",
    "```\n",
    "\n"
   ]
  },
  {
   "cell_type": "code",
   "execution_count": 40,
   "metadata": {},
   "outputs": [
    {
     "name": "stdout",
     "output_type": "stream",
     "text": [
      " Volume in drive C has no label.\n",
      " Volume Serial Number is 406F-7A15\n",
      "\n",
      " Directory of C:\\Users\\HP\\Downloads\\simplestats\n",
      "\n",
      "\n",
      " Directory of C:\\Users\\HP\\Downloads\\simplestats\\.git\n",
      "\n",
      "09/26/2024  11:50 AM               130 config\n",
      "09/26/2024  11:48 AM                73 description\n",
      "09/26/2024  11:48 AM                23 HEAD\n",
      "09/26/2024  11:48 AM    <DIR>          hooks\n",
      "09/26/2024  11:48 AM    <DIR>          info\n",
      "09/26/2024  11:48 AM    <DIR>          objects\n",
      "09/26/2024  11:48 AM    <DIR>          refs\n",
      "               3 File(s)            226 bytes\n",
      "               4 Dir(s)  146,414,555,136 bytes free\n"
     ]
    },
    {
     "name": "stderr",
     "output_type": "stream",
     "text": [
      "File Not Found\n"
     ]
    }
   ],
   "source": [
    "! dir -A .git"
   ]
  },
  {
   "cell_type": "code",
   "execution_count": 41,
   "metadata": {},
   "outputs": [
    {
     "name": "stdout",
     "output_type": "stream",
     "text": [
      "C:\\Users\\HP\\Downloads\\simplestats\\.git\n"
     ]
    }
   ],
   "source": [
    "cd .git"
   ]
  },
  {
   "cell_type": "markdown",
   "metadata": {},
   "source": [
    "Step 3 : Use what you've learned. You may have noticed the file called description. You can describe your repository by opening the description file and replacing the text with a name for the repository.  We will be creating a module with some simple statistical methods, so mine will be called \"Some simple methods for statistical analysis\". You may call yours  anything you like.\n",
    "\n",
    "```bash\n",
    "$ nano description\n",
    "```"
   ]
  },
  {
   "cell_type": "code",
   "execution_count": 51,
   "metadata": {},
   "outputs": [
    {
     "name": "stdout",
     "output_type": "stream",
     "text": [
      "^C\n"
     ]
    }
   ],
   "source": [
    "!notepad description"
   ]
  },
  {
   "cell_type": "markdown",
   "metadata": {},
   "source": [
    "You can use `!tree` or `tree` to display the directory structure in a tree-like format"
   ]
  },
  {
   "cell_type": "code",
   "execution_count": 47,
   "metadata": {},
   "outputs": [
    {
     "name": "stdout",
     "output_type": "stream",
     "text": [
      "Folder PATH listing\n",
      "Volume serial number is 406F-7A15\n",
      "C:.\n",
      "ÃÄÄÄhooks\n",
      "ÃÄÄÄinfo\n",
      "ÃÄÄÄobjects\n",
      "³   ÃÄÄÄinfo\n",
      "³   ÀÄÄÄpack\n",
      "ÀÄÄÄrefs\n",
      "    ÃÄÄÄheads\n",
      "    ÀÄÄÄtags\n"
     ]
    }
   ],
   "source": [
    "!tree"
   ]
  },
  {
   "cell_type": "markdown",
   "metadata": {
    "id": "8-rwgD5HbIdj"
   },
   "source": [
    "* * *  *\n",
    "An interesting command I would like you to test is `git status`, I will describe it later but let's see what it displays now.\n",
    "```bash\n",
    "$ git status\n",
    "On branch master\n",
    "\n",
    "No commits yet\n",
    "\n",
    "nothing to commit (create/copy files and use \"git add\" to track)\n",
    "```\n",
    "\n",
    "* * *  *\n"
   ]
  },
  {
   "cell_type": "code",
   "execution_count": 59,
   "metadata": {},
   "outputs": [
    {
     "name": "stdout",
     "output_type": "stream",
     "text": [
      "C:\\Users\\HP\\Downloads\\simplestats\n"
     ]
    }
   ],
   "source": [
    "cd .."
   ]
  },
  {
   "cell_type": "code",
   "execution_count": 60,
   "metadata": {},
   "outputs": [
    {
     "name": "stdout",
     "output_type": "stream",
     "text": [
      "On branch master\n",
      "\n",
      "No commits yet\n",
      "\n",
      "nothing to commit (create/copy files and use \"git add\" to track)\n"
     ]
    }
   ],
   "source": [
    "! git status"
   ]
  },
  {
   "cell_type": "markdown",
   "metadata": {
    "id": "bdcfca76"
   },
   "source": [
    "## git add : Adding a File To Version Control\n",
    "\n",
    "For the git repository to know which files within this directory you\n",
    "would like to keep track of, you must add them. First, you'll need to\n",
    "create one, then we'll learn the **git add** command."
   ]
  },
  {
   "cell_type": "markdown",
   "metadata": {
    "id": "a6f520a2"
   },
   "source": [
    "* * * * \n",
    "### Practical : Add a File to Your Local Repository\n",
    "\n",
    "Step 1 : Create a file to add to your repository.\n",
    "\n",
    "```bash\n",
    "$ touch README.md\n",
    "```\n",
    "\n"
   ]
  },
  {
   "cell_type": "code",
   "execution_count": 67,
   "metadata": {},
   "outputs": [],
   "source": [
    "!type nul > README.md"
   ]
  },
  {
   "cell_type": "markdown",
   "metadata": {},
   "source": [
    "Step 2: Verify that git has seen the file.\n",
    "\n",
    "```bash\n",
    "$ git status\n",
    "# On branch master\n",
    "\n",
    "# No commits yet\n",
    "\n",
    "# Untracked files:\n",
    "#(use \"git add <file>...\" to include in what will be committed) README.md\n",
    "\n",
    "# nothing added to commit but untracked files present (use \"git add\" to track)\n",
    "```\n"
   ]
  },
  {
   "cell_type": "code",
   "execution_count": 63,
   "metadata": {},
   "outputs": [
    {
     "name": "stdout",
     "output_type": "stream",
     "text": [
      "On branch master\n",
      "\n",
      "No commits yet\n",
      "\n",
      "Untracked files:\n",
      "  (use \"git add <file>...\" to include in what will be committed)\n",
      "\tREADME.md\n",
      "\n",
      "nothing added to commit but untracked files present (use \"git add\" to track)\n"
     ]
    }
   ],
   "source": [
    "! git status"
   ]
  },
  {
   "cell_type": "markdown",
   "metadata": {},
   "source": [
    "\n",
    "Step 3 : Inform git that you would like to keep track of future changes\n",
    "in this file.\n",
    "\n",
    "```bash\n",
    "$ git add README.md\n",
    "```"
   ]
  },
  {
   "cell_type": "code",
   "execution_count": 65,
   "metadata": {},
   "outputs": [],
   "source": [
    "! git add README.md"
   ]
  },
  {
   "cell_type": "markdown",
   "metadata": {
    "id": "31901d46"
   },
   "source": [
    "## git status : Checking the status of your local copy\n",
    "\n",
    "The files you've created on your machine are your local \"working\" copy.\n",
    "The changes your make in this local copy aren't backed up online\n",
    "automatically. Until you commit them, the changes you make are local\n",
    "changes. When you change anything, your set of files becomes different\n",
    "from the files in the official repository copy. To find out what's\n",
    "different about them in the terminal, try:\n",
    "\n",
    "```bash\n",
    "$ git status\n",
    "# On branch master\n",
    "#\n",
    "# No commits yet\n",
    "#\n",
    "# Changes to be committed:\n",
    "#   (use \"git rm --cached <file>...\" to unstage)\n",
    "#\n",
    "#       new file:   README.md\n",
    "#\n",
    "```\n",
    "\n",
    "The null result means that you're up to date with the current version of\n",
    "the repository online. This result indicates that the current difference\n",
    "between the repository HEAD (which, so far, is empty) and your\n",
    "`simplestats` directory is this new README.md file."
   ]
  },
  {
   "cell_type": "code",
   "execution_count": 66,
   "metadata": {},
   "outputs": [
    {
     "name": "stdout",
     "output_type": "stream",
     "text": [
      "On branch master\n",
      "\n",
      "No commits yet\n",
      "\n",
      "Changes to be committed:\n",
      "  (use \"git rm --cached <file>...\" to unstage)\n",
      "\tnew file:   README.md\n",
      "\n"
     ]
    }
   ],
   "source": [
    "! git status"
   ]
  },
  {
   "cell_type": "markdown",
   "metadata": {
    "id": "5c0466af"
   },
   "source": [
    "## git commit : Saving a snapshot\n",
    "\n",
    "In order to save a snapshot of the current state (revision) of the\n",
    "repository, we use the commit command. This command is always associated\n",
    "with a message describing the changes since the last commit and\n",
    "indicating their purpose. Informative commit messages will serve you\n",
    "well someday, so make a habit of never committing changes without at\n",
    "least a full sentence description.\n",
    "\n",
    "**ADVICE: Commit often**\n",
    "\n",
    "In the same way that it is wise to often save a document that you are\n",
    "working on, so too is it wise to save numerous revisions of your code.\n",
    "More frequent commits increase the granularity of your **undo** button.\n",
    "\n",
    "**ADVICE: Good commit messages**\n",
    "\n",
    "There are no hard and fast rules, but good commits are atomic: they are the smallest change that remain meaningful. A good commit message usually contains a one-line description followed by a longer explanation if necessary.\n"
   ]
  },
  {
   "cell_type": "markdown",
   "metadata": {
    "id": "ad25127c"
   },
   "source": [
    "* * * \n",
    "### Practical : Commit Your Changes\n",
    "\n",
    "Step 1 : Commit the file you've added to your repository.\n",
    "\n",
    "```bash\n",
    "$ git commit -am \"This is the first commit. It adds a readme file.\"\n",
    "  [master (root-commit) 664867c] This is the first commit. It adds a readme file.\n",
    "  1 file changed, 0 insertions(+), 0 deletions(-)\n",
    "  create mode 100644 readme.md\n",
    "```  "
   ]
  },
  {
   "cell_type": "code",
   "execution_count": 69,
   "metadata": {},
   "outputs": [
    {
     "name": "stdout",
     "output_type": "stream",
     "text": [
      "[master (root-commit) b75acb0] This is the first commit. It adds a readme file.\n",
      " 1 file changed, 0 insertions(+), 0 deletions(-)\n",
      " create mode 100644 README.md\n"
     ]
    }
   ],
   "source": [
    "! git commit -am \"This is the first commit. It adds a readme file.\""
   ]
  },
  {
   "cell_type": "markdown",
   "metadata": {},
   "source": [
    "Step 2 : Admire your work.\n",
    "\n",
    "```bash\n",
    "$ git status\n",
    "# On branch master\n",
    "nothing to commit, working tree clean\n",
    "```"
   ]
  },
  {
   "cell_type": "code",
   "execution_count": 70,
   "metadata": {},
   "outputs": [
    {
     "name": "stdout",
     "output_type": "stream",
     "text": [
      "On branch master\n",
      "nothing to commit, working tree clean\n"
     ]
    }
   ],
   "source": [
    "! git status"
   ]
  },
  {
   "cell_type": "markdown",
   "metadata": {
    "id": "46cbed6f"
   },
   "source": [
    "## git diff : Viewing the Differences\n",
    "\n",
    "There are many diff tools.\n",
    "\n",
    "If you have a favorite you can set your default git diff tool to execute that one. Git, however, comes with its own diff system.\n",
    "\n",
    "Let's recall the behavior of the linux [`diff`](https://www.geeksforgeeks.org/diff-command-linux-examples/) command on the command line. The equivalent command for windows is [fc](https://www.howtogeek.com/206123/how-to-use-fc-file-compare-from-the-windows-command-prompt/). Choosing two files that are similar, the command:\n",
    "\n",
    "```bash\n",
    "$!diff file1 file2\n",
    "```\n",
    "\n",
    "will output the lines that differ between the two files. This information can be saved as what's known as a patch, but we won't go deeply into that just now.\n"
   ]
  },
  {
   "cell_type": "markdown",
   "metadata": {},
   "source": [
    "The only difference between the command line diff tool and git's diff tool is that the git tool is aware of all of the revisions in your repository, allowing each revision of each file to be treated as a full file.\n",
    "\n",
    "\n",
    "Thus, git diff will output the changes in your working directory that are not yet staged for a commit. To see how this works, make a change in your `README.md` file, but don't yet commit it.\n",
    "\n",
    "```bash\n",
    "$ git diff\n",
    "```"
   ]
  },
  {
   "cell_type": "code",
   "execution_count": 79,
   "metadata": {},
   "outputs": [
    {
     "data": {
      "text/plain": [
       "['FC: cannot open FILE1.TXT - No such file or folder', '']"
      ]
     },
     "execution_count": 79,
     "metadata": {},
     "output_type": "execute_result"
    }
   ],
   "source": [
    "!!fc file1.txt file2.txt"
   ]
  },
  {
   "cell_type": "code",
   "execution_count": 1,
   "metadata": {},
   "outputs": [],
   "source": [
    "! git diff"
   ]
  },
  {
   "cell_type": "markdown",
   "metadata": {},
   "source": [
    "A summarized version of this output can be output with the `--stat` flag :\n",
    "\n",
    "```bash\n",
    "$ git diff --stat\n",
    "```"
   ]
  },
  {
   "cell_type": "markdown",
   "metadata": {},
   "source": [
    "To see only the differences in a certain path, try:\n",
    "\n",
    "```bash\n",
    "$ git diff HEAD -- [path]\n",
    "```"
   ]
  },
  {
   "cell_type": "code",
   "execution_count": 2,
   "metadata": {},
   "outputs": [],
   "source": [
    "! git diff --stat"
   ]
  },
  {
   "cell_type": "code",
   "execution_count": 12,
   "metadata": {},
   "outputs": [
    {
     "name": "stderr",
     "output_type": "stream",
     "text": [
      "warning: in the working copy of 'version_control_local.ipynb', LF will be replaced by CRLF the next time Git touches it\n"
     ]
    },
    {
     "name": "stdout",
     "output_type": "stream",
     "text": [
      "[master 35db98a] Initial commit\n",
      " 1 file changed, 2582 insertions(+), 21 deletions(-)\n"
     ]
    }
   ],
   "source": [
    "!git add .\n",
    "!git commit -m \"Initial commit\""
   ]
  },
  {
   "cell_type": "code",
   "execution_count": 13,
   "metadata": {},
   "outputs": [
    {
     "name": "stdout",
     "output_type": "stream",
     "text": [
      "true\n"
     ]
    }
   ],
   "source": [
    "!git rev-parse --is-inside-work-tree\n"
   ]
  },
  {
   "cell_type": "code",
   "execution_count": 14,
   "metadata": {},
   "outputs": [
    {
     "name": "stdout",
     "output_type": "stream",
     "text": [
      " Volume in drive C has no label.\n",
      " Volume Serial Number is 406F-7A15\n",
      "\n",
      " Directory of C:\\Users\\HP\\Downloads\n",
      "\n",
      "09/26/2024  08:05 PM    <DIR>          .\n",
      "09/26/2024  08:05 PM    <DIR>          ..\n",
      "04/25/2024  12:21 PM         2,551,013 %20Grant%2C%20Robert%20M.%20(2016)%20%E2%80%98Types%20of%20Competitive%20Advantage%3A%20Cost%20and%20Differentiation%E2%80%99%20in%20Contemporary%20strategy%20analysis.%20Ninth%20Edition%2C%20pp.179-199.%20United% (1).pdf\n",
      "04/25/2024  12:21 PM         2,551,013 %20Grant%2C%20Robert%20M.%20(2016)%20%E2%80%98Types%20of%20Competitive%20Advantage%3A%20Cost%20and%20Differentiation%E2%80%99%20in%20Contemporary%20strategy%20analysis.%20Ninth%20Edition%2C%20pp.179-199.%20United%20Ki.pdf\n",
      "04/25/2024  12:03 PM         3,727,430 %20Rothaermel%2C%20Frank%20T.%202019.%20%E2%80%98Internal%20Analysis%3A%20Resources%2C%20Capabilities%20and%20Core%20Competencies%E2%80%99%20in%20Strategic%20Management.%20Fourth%20edition.%20New%20York%3A%20McGraw%20.pdf\n",
      "09/26/2024  11:15 AM    <DIR>          .ipynb_checkpoints\n",
      "09/23/2024  09:09 PM        27,632,827 01. Introduction, Sep 23.pdf\n",
      "09/25/2024  03:53 PM           104,192 01_Lecture01 (1).ipynb\n",
      "09/24/2024  12:05 PM            62,942 01_Lecture01.ipynb\n",
      "09/25/2024  01:52 AM        16,459,303 1000-Solved-Problems-in-Classical-Physics-An-Exercise-EBook.pdf\n",
      "03/03/2024  06:27 PM         1,084,399 10601-matrix-calculus.pdf\n",
      "02/27/2024  06:19 AM         3,297,756 1582885306ETS-GRE Quantitative Reasoning.pdf\n",
      "03/08/2024  07:22 AM           564,970 1_xe0ATAxrySiY1gNMlQg9Fw.png\n",
      "06/13/2024  11:59 AM           106,733 224_exercise_3.pdf\n",
      "03/08/2024  07:15 AM            47,005 360px-Mandel_zoom_07_satellite.jpg\n",
      "08/22/2024  04:49 PM            22,289 4_5924592318916072362.docx\n",
      "03/21/2024  12:46 PM           534,026 7QG3C85E (1).pdf\n",
      "03/21/2024  12:35 PM           534,000 7QG3C85E.pdf\n",
      "03/08/2024  07:14 AM            39,747 800px-Mandel_zoom_00_mandelbrot_set.jpg\n",
      "03/08/2024  05:27 PM           155,553 Absolute Value Equations and Inequalities_5.pdf\n",
      "05/09/2024  04:30 PM           120,071 Academic Fees.pdf\n",
      "09/01/2024  08:02 PM           316,024 admission.Godwin.27904.pdf\n",
      "08/11/2024  01:13 PM           117,942 Advanced_Calc_qu_4_2017_to_18.pdf\n",
      "08/11/2024  01:13 PM           104,740 Advanced_Calc_qu_6_2017_to_18.pdf\n",
      "07/25/2024  04:27 PM           816,720 Advert.jpg\n",
      "06/20/2024  07:50 PM            61,102 AGRIC-22024372.pdf\n",
      "06/20/2024  06:31 AM            61,102 AGRIC-22241141.pdf\n",
      "09/14/2024  12:27 AM             8,762 aims.png\n",
      "04/23/2024  01:39 PM             3,132 AIMSPROJECT 1.txt\n",
      "04/23/2024  01:39 PM             2,965 AIMSPROJECT 2.txt\n",
      "04/23/2024  01:39 PM             2,965 AIMSPROJECT 3.txt\n",
      "03/25/2024  06:03 PM         1,774,989 akan_batch10_waxal-data.xlsx\n",
      "03/23/2024  05:23 PM         1,911,539 akan_batch1_waxal-data.xlsx\n",
      "03/25/2024  05:46 PM         1,909,444 akan_batch2_waxal-data.xlsx\n",
      "03/25/2024  05:48 PM         1,908,114 akan_batch3_waxal-data.xlsx\n",
      "03/25/2024  05:49 PM         1,910,576 akan_batch4_waxal-data.xlsx\n",
      "03/25/2024  05:50 PM         1,910,258 akan_batch5_waxal-data.xlsx\n",
      "03/25/2024  05:52 PM         1,910,186 akan_batch6_waxal-data.xlsx\n",
      "03/25/2024  05:52 PM         1,907,988 akan_batch7_waxal-data.xlsx\n",
      "03/25/2024  05:57 PM         1,908,778 akan_batch8_waxal-data.xlsx\n",
      "03/25/2024  06:02 PM         1,906,218 akan_batch9_waxal-data.xlsx\n",
      "09/23/2024  06:25 AM       956,650,896 Anaconda3-2024.06-1-Windows-x86_64.exe\n",
      "05/18/2024  03:44 PM     1,195,116,984 android-studio-2023.3.1.18-windows.exe\n",
      "07/08/2024  07:16 AM            37,647 App features.pdf\n",
      "07/12/2024  12:09 PM        31,579,908 application-5f1e698f-04dd-4ada-96eb-8e6e1da9aaca.aab\n",
      "07/12/2024  01:00 PM        69,032,338 application-5f1e698f-04dd-4ada-96eb-8e6e1da9aaca.apks\n",
      "09/03/2024  08:50 PM            11,475 ApplicationLetterSackey Forson Nii Kojo.docx\n",
      "09/03/2024  08:48 PM            61,699 ApplicationLetterSackey Forson Nii Kojo.pdf\n",
      "09/03/2024  08:08 PM            35,863 ApplicationLetterSackeyForson (1).pdf\n",
      "09/04/2024  03:50 AM            11,846 ApplicationLetterSackeyForson.docx\n",
      "09/03/2024  07:58 PM            61,242 ApplicationLetterSackeyForson.pdf\n",
      "02/23/2024  09:17 PM           513,526 argument-pool.pdf\n",
      "07/29/2024  07:39 PM           192,627 articles.jpg\n",
      "04/26/2024  01:53 PM    <DIR>          assets\n",
      "04/26/2024  01:51 PM         1,391,655 assets.zip\n",
      "04/26/2024  04:28 PM    <DIR>          assets1\n",
      "04/26/2024  04:27 PM             2,177 assets1.zip\n",
      "09/12/2024  10:50 PM           173,066 Assignment.pdf\n",
      "04/26/2024  08:25 AM           123,467 background1.jpg\n",
      "02/23/2024  09:17 PM           578,419 Barron's Wordlist full.pdf\n",
      "04/26/2024  08:25 AM            28,846 board1.jpg\n",
      "07/12/2024  12:13 PM    <DIR>          bundletool-1.17.0\n",
      "07/12/2024  12:13 PM         8,945,239 bundletool-1.17.0.zip\n",
      "07/12/2024  12:41 PM        32,456,622 bundletool-all-1.17.0.jar\n",
      "06/18/2024  06:09 AM           106,720 cal1 (1).pdf\n",
      "06/18/2024  06:09 AM           113,494 cal1-1.pdf\n",
      "06/18/2024  06:10 AM           126,657 cal1-2.pdf\n",
      "06/06/2024  11:32 AM           106,720 cal1.pdf\n",
      "08/13/2024  02:58 PM         2,913,290 CamScanner 08-09-2024 20.29.pdf\n",
      "04/26/2024  09:28 AM               729 cardback_blue1 - copy.png\n",
      "04/26/2024  08:05 AM            36,362 cardgame.html\n",
      "04/26/2024  08:18 AM    <DIR>          Cards\n",
      "04/26/2024  08:17 AM           208,884 Cards.zip\n",
      "04/26/2024  08:25 AM            17,416 CardTable.mp3\n",
      "03/08/2024  05:27 PM           216,339 Completion of Squares_2.pdf\n",
      "03/25/2024  05:19 PM    <DIR>          Compressed\n",
      "07/10/2024  12:16 PM         1,191,306 convertifydemo (1).zip\n",
      "07/10/2024  12:17 PM         1,191,306 convertifydemo (2).zip\n",
      "07/10/2024  12:20 PM         1,191,306 convertifydemo.zip\n",
      "07/29/2024  07:40 PM           168,390 cover_letters.jpg\n",
      "04/26/2024  08:25 AM            90,419 cup6.png\n",
      "04/29/2024  03:38 AM            67,348 CV(UGBS).pdf\n",
      "05/04/2024  10:20 PM            57,305 CV.pdf\n",
      "08/27/2024  02:58 AM            37,765 CV2-SACKEY FORSON.docx\n",
      "03/13/2024  06:27 PM           335,519 CV_KLUTSE GODWIN KOFI.pdf\n",
      "08/08/2024  08:18 AM    <DIR>          D3DX9_43_x86\n",
      "08/08/2024  07:37 AM           900,322 D3DX9_43_x86.zip\n",
      "09/12/2024  10:43 PM           506,384 DALLúE 2024-09-12 22.43.39 - A top-down view of a playground design featuring a rectangular basketball court in the center, surrounded by a circular 200-meter running track. The c.webp\n",
      "03/13/2024  06:23 PM             1,897 Data structures and algorithms Solution.py\n",
      "09/19/2024  02:20 PM         4,039,429 data.csv\n",
      "09/19/2024  01:37 PM         3,974,305 data.txt\n",
      "04/10/2024  02:17 PM        73,362,643 Data_Structure_and_Algorithmic_Thinking_with_Python_Data_Structure (1).pdf\n",
      "04/10/2024  02:15 PM        73,362,643 Data_Structure_and_Algorithmic_Thinking_with_Python_Data_Structure.pdf\n",
      "08/13/2024  06:58 AM            94,861 Desmos _ Graphing Calculator.pdf\n",
      "03/08/2024  02:24 PM           268,049 desmos-graph (1).png\n",
      "08/13/2024  06:56 AM            62,049 desmos-graph (2).png\n",
      "08/13/2024  10:13 AM            71,036 desmos-graph (3).png\n",
      "03/08/2024  04:36 AM           216,371 desmos-graph.png\n",
      "04/09/2024  12:41 PM           116,852 document (1).pdf\n",
      "07/16/2024  01:30 PM           133,779 document (10).pdf\n",
      "07/18/2024  04:36 PM           678,804 document (11).pdf\n",
      "07/18/2024  04:37 PM           137,227 document (12).pdf\n",
      "07/18/2024  04:37 PM           258,392 document (13).pdf\n",
      "07/23/2024  11:32 AM           133,779 document (14).pdf\n",
      "07/23/2024  11:34 AM            72,794 document (15).pdf\n",
      "07/23/2024  11:37 AM           116,852 document (16).pdf\n",
      "07/23/2024  11:38 AM           290,961 document (17).pdf\n",
      "07/28/2024  10:59 AM            88,486 document (18).pdf\n",
      "07/28/2024  11:00 AM           107,878 document (19).pdf\n",
      "04/10/2024  04:20 PM           178,363 document (2).pdf\n",
      "07/28/2024  11:01 AM           112,179 document (20).pdf\n",
      "07/28/2024  11:03 AM           603,905 document (21).pdf\n",
      "07/28/2024  11:03 AM           434,965 document (22).pdf\n",
      "07/28/2024  11:03 AM           824,355 document (23).pdf\n",
      "08/07/2024  02:59 PM           127,908 document (24).pdf\n",
      "04/10/2024  04:27 PM           119,195 document (3).pdf\n",
      "04/10/2024  04:28 PM           199,294 document (4).pdf\n",
      "04/20/2024  05:40 AM            67,124 document (5).pdf\n",
      "04/20/2024  05:41 AM           100,025 document (6).pdf\n",
      "04/20/2024  05:41 AM           100,025 document (7).pdf\n",
      "06/03/2024  06:43 PM            78,991 document (8).pdf\n",
      "06/14/2024  06:27 PM           285,167 document (9).pdf\n",
      "04/09/2024  12:40 PM            72,794 document.pdf\n",
      "04/14/2024  05:33 PM    <DIR>          Documents\n",
      "09/26/2024  11:44 AM    <DIR>          Downloads\n",
      "04/12/2024  04:32 PM               713 Downloads - Shortcut.lnk\n",
      "08/03/2024  04:15 AM            49,855 Draft.pdf\n",
      "03/18/2024  05:07 PM         1,544,096 DriverUpdate (1).exe\n",
      "03/18/2024  12:58 AM         1,544,096 DriverUpdate.exe\n",
      "06/10/2024  12:07 PM        29,683,904 driver_booster_setup.exe\n",
      "06/10/2024  12:01 PM         6,767,016 Driver_Updater_setup (1).exe\n",
      "06/10/2024  12:00 PM         6,767,016 Driver_Updater_setup.exe\n",
      "03/26/2024  06:38 PM        83,761,808 Duolingo English Test 3.11.2 (1).exe\n",
      "03/26/2024  06:38 PM        83,761,808 Duolingo English Test 3.11.2.exe\n",
      "08/08/2024  08:02 AM           295,320 dxwebsetup.exe\n",
      "09/05/2024  05:03 PM           237,977 E-TICKET_KLUTSE_GODWIN KOFI MR_KGWVOM_09SEP_ACC.pdf\n",
      "06/13/2024  04:06 PM    <DIR>          eazywayhealth\n",
      "06/16/2024  12:14 PM           116,436 eazywayhealth (1).zip\n",
      "06/13/2024  04:05 PM           116,284 eazywayhealth.zip\n",
      "02/24/2024  09:51 PM        17,972,174 Educational Testing Service - ETS - The Official Guide to the GRE 3rd Edition-Educational Testing Service (2017).pdf\n",
      "08/29/2024  04:34 PM            24,390 END OF TERMINAL REPORT (1).pdf\n",
      "08/29/2024  04:37 PM            23,812 END OF TERMINAL REPORT (2).pdf\n",
      "08/29/2024  04:32 PM            21,815 END OF TERMINAL REPORT.pdf\n",
      "09/18/2024  04:14 PM            29,757 Equilateral Triangle.ggb\n",
      "08/27/2024  01:54 PM            13,777 ESTHER_BONNEY_KAI_MANSAH_-_.pdf\n",
      "08/27/2024  02:02 PM            13,978 ESTHER_BONNEY_KAI_MANSAH_-_Dishwasher_ (1).pdf\n",
      "08/27/2024  02:41 PM            23,903 ESTHER_BONNEY_KAI_MANSAH_-_Dishwasher_ (10).pdf\n",
      "08/27/2024  02:36 PM            14,846 ESTHER_BONNEY_KAI_MANSAH_-_Dishwasher_ (2).pdf\n",
      "08/27/2024  02:36 PM            14,856 ESTHER_BONNEY_KAI_MANSAH_-_Dishwasher_ (3).pdf\n",
      "08/27/2024  02:36 PM            28,345 ESTHER_BONNEY_KAI_MANSAH_-_Dishwasher_ (4).pdf\n",
      "08/27/2024  02:36 PM            24,829 ESTHER_BONNEY_KAI_MANSAH_-_Dishwasher_ (5).pdf\n",
      "08/27/2024  02:37 PM            29,576 ESTHER_BONNEY_KAI_MANSAH_-_Dishwasher_ (6).pdf\n",
      "08/27/2024  02:37 PM           174,178 ESTHER_BONNEY_KAI_MANSAH_-_Dishwasher_ (7).pdf\n",
      "08/27/2024  02:38 PM            25,602 ESTHER_BONNEY_KAI_MANSAH_-_Dishwasher_ (8).pdf\n",
      "08/27/2024  02:40 PM            27,809 ESTHER_BONNEY_KAI_MANSAH_-_Dishwasher_ (9).pdf\n",
      "08/27/2024  02:02 PM            11,867 ESTHER_BONNEY_KAI_MANSAH_-_Dishwasher_.docx\n",
      "08/27/2024  02:35 PM            17,408 ESTHER_BONNEY_KAI_MANSAH_-_Dishwasher_.pdf\n",
      "08/27/2024  09:11 PM            29,610 ESTHER_KAI_MANSAH_BONNEY_-_Dishwasher_.pdf\n",
      "06/26/2024  05:51 PM           115,168 Exercise 1.pdf\n",
      "06/18/2024  06:10 AM           525,972 EXERCISE ON DERIVATIVE OF AN INVERSE FUNCTION.pdf\n",
      "06/13/2024  11:58 AM           111,214 Exercises_1.pdf\n",
      "06/13/2024  11:59 AM           131,190 Exercise_2.pdf\n",
      "06/13/2024  11:59 AM            98,499 Exercise_4.pdf\n",
      "06/13/2024  11:59 AM           102,286 Exercise_5.pdf\n",
      "08/13/2024  09:12 AM            34,555 fb pic 23.jpg\n",
      "08/13/2024  09:35 AM            39,610 fb pic 4.jpg\n",
      "09/12/2024  05:04 AM            30,656 fb pic Sep1.jpg\n",
      "09/12/2024  05:04 AM            62,577 fb pic Sep2.jpg\n",
      "09/12/2024  05:04 AM            53,385 fb pic Sep3.jpg\n",
      "09/12/2024  05:04 AM            55,563 fb pic Sep4.jpg\n",
      "05/27/2024  05:46 PM           240,575 feep108.pdf\n",
      "06/04/2024  04:52 PM           886,272 file.pdf\n",
      "08/17/2024  01:36 PM           144,406 Final Project.pdf\n",
      "05/21/2024  07:18 PM           153,775 Financial UGBS 612  Course outline editted.pdf\n",
      "09/01/2024  08:02 PM           156,672 financial.Godwin.27904.pdf\n",
      "04/04/2024  11:19 PM           150,267 flowcode.png\n",
      "06/13/2024  08:43 PM           546,962 fm 21-22 past question.pdf\n",
      "06/13/2024  08:44 PM           148,551 FM PQ1.pdf\n",
      "08/27/2024  12:51 PM            53,749 FORSON_SACKEY_NII_KOJO_-_ (1).pdf\n",
      "08/27/2024  12:57 PM            61,156 FORSON_SACKEY_NII_KOJO_-_ (2).pdf\n",
      "08/27/2024  12:58 PM            61,151 FORSON_SACKEY_NII_KOJO_-_ (3).pdf\n",
      "08/27/2024  04:40 AM            11,243 FORSON_SACKEY_NII_KOJO_-_.docx\n",
      "08/27/2024  04:41 AM            36,853 FORSON_SACKEY_NII_KOJO_-_.pdf\n",
      "03/04/2024  04:31 PM             1,946 functions.py\n",
      "03/04/2024  04:30 PM               358 functions.tex\n",
      "09/12/2024  10:54 AM               399 gaud.sh\n",
      "09/17/2024  08:48 AM       117,361,240 GeoGebraCalculator-Windows-Installer-6-0-857-0.exe\n",
      "09/15/2024  09:42 PM            21,002 geometric jigsaw pic.jpg\n",
      "08/04/2024  06:57 PM           223,405 Ghana Food market research.pdf\n",
      "02/28/2024  09:35 PM         7,918,219 Ghana1000 Student Manual.pdf\n",
      "06/13/2024  05:15 PM        68,131,584 Git-2.45.2-64-bit.exe\n",
      "09/23/2024  06:25 AM       167,492,568 GitHubDesktopSetup-x64.exe\n",
      "08/27/2024  04:25 AM             6,269 GODWIN KLUTSE - Resume.docx\n",
      "08/27/2024  04:22 AM             3,636 GODWIN KLUTSE - Resume.txt\n",
      "04/28/2024  06:25 PM            57,468 GODWIN KOFI KLUTSE (1).pdf\n",
      "07/12/2024  08:15 AM            57,588 GODWIN KOFI KLUTSE (2).pdf\n",
      "07/15/2024  01:24 PM           105,589 Godwin Kofi Klutse - Unofficial Transcripts - Jul 15, 2024 (1).pdf\n",
      "07/15/2024  01:24 PM           105,589 Godwin Kofi Klutse - Unofficial Transcripts - Jul 15, 2024.pdf\n",
      "04/26/2024  07:09 AM            55,574 GODWIN KOFI KLUTSE.pdf\n",
      "09/23/2024  04:11 PM            45,004 godwin.kluste-day00report.ipynb.ipynb\n",
      "09/25/2024  03:52 PM           102,974 godwin.kluste-day01report.ipynb\n",
      "09/24/2024  11:07 PM            75,476 godwin.kluste-day01report1.ipynb\n",
      "09/25/2024  03:41 PM            91,677 godwin.kluste-day01report2.ipynb\n",
      "09/25/2024  11:59 PM            75,833 godwin.kluste-day02report.ipynb\n",
      "05/06/2024  02:30 PM           833,471 GODWINKLUTSE (1).pdf\n",
      "05/06/2024  02:23 PM            40,864 GODWINKLUTSE.pdf\n",
      "05/13/2024  10:34 AM           150,357 GodwinMay.pdf\n",
      "09/15/2024  04:06 PM             9,503 godwin_kluste_ICL1.tex\n",
      "09/20/2024  11:50 PM            77,217 godwin_kluste_ICLRP.pdf\n",
      "09/20/2024  11:58 PM             6,764 godwin_kluste_ICLRP.Rmd\n",
      "09/14/2024  08:43 PM           146,048 godwin_kluste_MPS2.pdf\n",
      "04/26/2024  05:35 AM        18,320,744 GrammarlyInstaller.czMFhf8fbyld8skd4lb60dg2.exe\n",
      "02/23/2024  09:18 PM         1,201,616 gre-sample-questions.pdf\n",
      "09/11/2024  01:28 PM        64,543,904 gs10031w64.exe\n",
      "04/01/2024  06:56 PM        20,297,384 Hacking.  Computer Hacking, Security Testing,Penetration Testing, and Basic Security ( PDFDrive ).pdf\n",
      "04/26/2024  08:25 AM    <DIR>          icons\n",
      "04/26/2024  08:24 AM            26,947 icons.zip\n",
      "08/17/2024  05:17 AM           113,065 IDCJAC0001_039128.pdf\n",
      "03/25/2024  05:17 PM        12,107,128 idman642build7.exe\n",
      "03/02/2024  07:24 PM            83,353 iiAfrica - Confidentiality agreement (1).pdf\n",
      "03/01/2024  03:18 PM            83,353 iiAfrica - Confidentiality agreement.pdf\n",
      "09/18/2024  01:13 PM            30,036 IMG.ggb\n",
      "09/18/2024  01:14 PM           221,202 IMG.png\n",
      "02/25/2024  03:35 AM        11,459,073 Inc, Kaplan - GRE Premier 2016 with 6 Practice Tests_ Book + Online + DVD + Mobile-Kaplan Publishing (2015)_220303_221109.pdf\n",
      "04/26/2024  12:54 PM            36,362 index.html\n",
      "05/21/2024  07:20 PM           700,758 Introduction.pdf\n",
      "09/12/2024  10:54 AM               594 IntroLaTeX.tex\n",
      "02/23/2024  09:18 PM           292,639 issue-pool.pdf\n",
      "07/12/2024  12:37 PM                 0 java\n",
      "07/12/2024  12:26 PM       172,293,240 jdk-22_windows-x64_bin.exe\n",
      "04/17/2024  06:23 PM               217 JS\n",
      "04/29/2024  05:56 PM           475,602 KetaForms.pdf\n",
      "07/02/2024  06:53 PM            79,398 KLUTSE BENEDICTA AFIA.pdf\n",
      "04/15/2024  07:37 PM            53,516 KLUTSE GODWIN CV.pdf\n",
      "04/15/2024  07:38 PM            53,830 KLUTSE GODWIN CV_2.pdf\n",
      "04/17/2024  07:08 PM            62,867 KLUTSE GODWIN CV_TURING.pdf\n",
      "03/11/2024  12:43 PM           785,620 KLUTSE GODWIN KOFI (1).pdf\n",
      "09/01/2024  09:52 PM           651,369 KLUTSE GODWIN KOFI (2).pdf\n",
      "03/28/2024  03:12 PM            46,561 KLUTSE GODWIN KOFI CV - AIMS RWANDA.pdf\n",
      "03/28/2024  03:14 PM            46,561 KLUTSE GODWIN KOFI CV - AIMS RWANDA_2.pdf\n",
      "03/03/2024  10:15 AM           785,620 KLUTSE GODWIN KOFI.pdf\n",
      "04/30/2024  02:18 PM           475,054 KorlebuForm.pdf\n",
      "09/26/2024  10:01 AM            45,569 lab_0.ipynb\n",
      "07/29/2024  07:41 PM           115,763 lab_reports.jpg\n",
      "06/05/2024  11:21 AM           178,110 Lecture 1.pdf\n",
      "06/12/2024  06:45 PM           156,323 Lecture 2.pdf\n",
      "09/24/2024  10:43 AM            65,365 Lecture1.ipynb\n",
      "03/12/2024  05:11 PM           123,053 Lecture3w.pdf\n",
      "09/23/2024  01:44 PM           201,969 Letter To request for AIMS in Rwanda Visa for Students and Tutors 2024-2025 Academic Year (2).pdf\n",
      "05/27/2024  04:43 PM        15,549,601 logarithms_exam_questions.pdf\n",
      "03/08/2024  08:10 AM           676,424 Mandelbrot_Set_Fractal.pdf\n",
      "08/06/2024  05:44 PM        18,017,015 Marketing Management.pdf\n",
      "07/12/2024  12:59 PM    <DIR>          MATH 123\n",
      "06/22/2024  09:01 AM            19,614 MATH 123 - Exercises 1 _Module 1 LV 1._.pdf\n",
      "06/22/2024  09:01 AM            21,311 MATH 123 - Exercises 2 _Module 1 LV 2._.pdf\n",
      "06/22/2024  09:01 AM            19,725 MATH 123 - Exercises 3 _Module 1 LV 3._.pdf\n",
      "06/22/2024  09:01 AM            20,129 MATH 123 - Exercises 4 _Module 1 LV 4._.pdf\n",
      "06/22/2024  09:00 AM           536,432 MATH 123 Module 1 _Lecture Video 1_.pdf\n",
      "06/22/2024  09:00 AM           479,929 MATH 123 Module 1 _Lecture Video 2_.pdf\n",
      "06/22/2024  09:01 AM           343,638 MATH 123 Module 1 _Lecture Video 3_.pdf\n",
      "06/22/2024  09:01 AM           348,846 MATH 123 Module 1 _Lecture Video 4_.pdf\n",
      "09/05/2024  07:06 AM             6,560 MATH 223 Exam-2023-2024 (1).zip\n",
      "09/02/2024  03:30 PM             6,507 MATH 223 Exam-2023-2024.tex\n",
      "09/02/2024  03:32 PM             2,548 MATH 223 Exam-2023-2024.zip\n",
      "07/26/2024  01:18 PM            79,705 MATH 353-Exam 2023-2024-Answers (1).pdf\n",
      "07/29/2024  11:15 AM            32,126 MATH 353-Exam 2023-2024-Answers (1).tex\n",
      "08/09/2024  04:20 PM            32,288 MATH 353-Exam 2023-2024-Answers (2).tex\n",
      "07/26/2024  01:18 PM            79,705 MATH 353-Exam 2023-2024-Answers (3).pdf\n",
      "07/26/2024  01:18 PM            79,705 MATH 353-Exam 2023-2024-Answers.pdf\n",
      "07/26/2024  04:42 PM            12,256 MATH 353-Exam 2023-2024-Answers.tex\n",
      "07/26/2024  04:57 PM             4,147 MATH 353-Exam 2023-2024-Answers.zip\n",
      "08/12/2024  02:03 PM            16,656 math442  Record.xlsx\n",
      "09/05/2024  07:05 AM           195,208 MATH_223_Exam_2023_2024.pdf\n",
      "08/09/2024  04:18 PM           218,119 MATH_353_Exam_2023_2024_Answers.pdf\n",
      "03/03/2024  06:29 PM           335,552 matrixcalc.pdf\n",
      "03/03/2024  06:36 PM           122,378 MatrixCalculus.pdf\n",
      "03/03/2024  06:19 PM           692,685 matrixcookbook.pdf\n",
      "03/03/2024  06:12 PM           513,128 matrixproblems.pdf\n",
      "03/03/2024  06:14 PM           114,016 Matrix_derivatives_cribsheet.pdf\n",
      "04/29/2024  03:28 AM            38,181 Motivation Letter(UGBS).pdf\n",
      "09/14/2024  12:30 AM            10,471 MPL Assignment.zip\n",
      "09/14/2024  12:30 AM            95,268 MPL_Assignment.pdf\n",
      "03/25/2024  05:19 PM    <DIR>          Music\n",
      "09/14/2024  02:31 PM               707 Music - Shortcut.lnk\n",
      "07/12/2024  12:57 PM             2,804 my-release-key.jks\n",
      "03/11/2024  12:05 PM            48,845 National id 1_merged (1).pdf\n",
      "03/27/2024  09:48 PM             5,646 NETFLIX BUSINESS (1).xlsx\n",
      "09/25/2024  01:52 AM         2,202,438 New Document 24-Sep-2024 19-48-55.pdf\n",
      "09/10/2024  03:45 PM         5,244,375 New Student Welcome Guide_AIMS Rwanda (2024-25)_compressed (2).pdf\n",
      "08/27/2024  08:56 PM            26,371 NICHOLAS_KOTEY_NIKOI_-_Security.pdf\n",
      "08/27/2024  09:09 PM            26,369 NICHOLAS_NIKOI_KOTEY_-_Security.pdf\n",
      "05/18/2024  01:49 PM        26,583,040 node-v20.13.1-x64.msi\n",
      "02/24/2024  09:52 PM         6,581,487 nova-gre-math-bible.pdf\n",
      "04/12/2024  04:31 PM           149,425 NSS April.pdf\n",
      "07/15/2024  06:07 AM           150,172 NSS July.pdf\n",
      "03/12/2024  02:29 PM           150,649 NSS March.pdf\n",
      "07/15/2024  11:42 AM           122,353 NSSGUG3865723 - UNIVERSITY OF GHANA.pdf\n",
      "09/15/2024  05:10 AM           117,592 NSSGUG7317423 - UNIVERSITY OF GHANA September.pdf\n",
      "08/28/2024  03:56 PM           118,063 NSSGUG7317423 - UNIVERSITY OF GHANA-Annual evaluation.pdf\n",
      "06/13/2024  12:35 PM           150,477 nssjune.pdf\n",
      "09/10/2024  05:48 PM           613,294 numbertheory.pdf\n",
      "05/07/2024  12:35 AM            88,125 nursejobpic.jpeg\n",
      "06/09/2024  07:19 PM         5,784,456 nvm-setup.exe\n",
      "06/09/2024  07:19 PM         5,262,127 nvm-setup.zip\n",
      "04/25/2024  06:18 PM             5,695 oprah.jpeg\n",
      "09/14/2024  02:12 PM            11,756 p2.tex\n",
      "09/14/2024  02:34 PM             2,667 p2.zip\n",
      "08/29/2024  03:23 PM            36,074 PAPER2.pdf\n",
      "08/29/2024  03:23 PM            28,723 PAPER3.pdf\n",
      "03/02/2024  08:01 PM            64,107 PASSPORT.pdf\n",
      "09/23/2024  01:54 PM           187,502 passport2024.jpg\n",
      "09/12/2024  10:48 PM         2,016,162 playground.jpg\n",
      "06/30/2024  08:56 PM       181,114,096 postgresql-9.6.24-1-windows.exe\n",
      "04/01/2024  03:20 PM        38,038,300 power-bi-consumer.pdf\n",
      "06/13/2024  08:43 PM           185,110 PQ extra investment appraisal.pdf\n",
      "09/25/2024  03:40 PM            28,802 Practical_1 (1).ipynb\n",
      "09/24/2024  10:52 PM            28,802 Practical_1.ipynb\n",
      "09/25/2024  12:32 PM            11,876 Practical_2.ipynb\n",
      "09/23/2024  06:51 AM         2,066,298 Problem Solving Through Problems (1).djvu\n",
      "09/23/2024  06:51 AM         2,066,298 Problem Solving Through Problems.djvu\n",
      "09/23/2024  06:52 AM         5,689,474 Problem Solving Through Problems.pdf\n",
      "04/25/2024  07:01 AM           442,497 Profile pic.jpg\n",
      "04/25/2024  06:44 AM            32,471 Profile.pdf\n",
      "04/01/2024  06:54 PM    <DIR>          Programs\n",
      "07/12/2024  12:37 PM                 0 PS\n",
      "04/26/2024  01:52 PM            56,894 PS20.html\n",
      "08/03/2024  02:24 AM           108,887 QU P 1.jpg\n",
      "08/03/2024  02:24 AM            33,484 QU P 10.jpg\n",
      "08/03/2024  03:03 AM           897,743 QU P 10.pdf\n",
      "08/03/2024  02:24 AM            93,063 QU P 2.jpg\n",
      "08/03/2024  02:24 AM            87,300 QU P 3.jpg\n",
      "08/03/2024  02:24 AM            59,041 QU P 4.jpg\n",
      "08/03/2024  02:24 AM            39,379 QU P 5.jpg\n",
      "08/03/2024  02:24 AM            82,476 QU P 6.jpg\n",
      "08/03/2024  02:24 AM            53,905 QU P 7.jpg\n",
      "08/03/2024  02:24 AM            54,074 QU P 8.jpg\n",
      "08/03/2024  02:24 AM            46,359 QU P 9.jpg\n",
      "08/03/2024  03:18 AM           707,411 QU-P-2.jpg\n",
      "03/08/2024  05:27 PM           131,990 Quadratic Equations_3.pdf\n",
      "09/12/2024  10:54 AM                51 quadratic.sh.save\n",
      "03/28/2024  11:54 PM            61,284 QUESTION  TWO.pdf\n",
      "03/13/2024  02:43 PM         3,638,489 Question 1 - Copy (2).pdf\n",
      "03/13/2024  02:43 PM         3,638,489 Question 1 - Copy.pdf\n",
      "03/13/2024  02:43 PM         3,638,489 Question 1.pdf\n",
      "03/13/2024  02:55 PM         1,601,972 Question 2.pdf\n",
      "03/13/2024  02:55 PM         3,269,289 Question 3.pdf\n",
      "03/13/2024  02:55 PM         3,353,641 Question 4.pdf\n",
      "03/13/2024  02:55 PM         1,999,998 Question 5.pdf\n",
      "08/01/2024  04:05 PM            89,394 Question FM.jpg\n",
      "09/17/2024  10:02 AM           142,236 Question Image.png\n",
      "03/28/2024  11:55 PM            92,022 QUESTION ONE (1).pdf\n",
      "03/12/2024  04:30 PM           122,118 Question_1.pdf\n",
      "03/28/2024  11:43 PM         1,565,406 Question_2_AIMS_Rwanda.pdf\n",
      "07/19/2024  06:59 PM        85,900,616 R-4.4.1-win.exe\n",
      "09/18/2024  02:20 PM            13,681 rectangle.ggb\n",
      "09/18/2024  11:09 AM            10,126 rematerialsfortheiclcourse.zip\n",
      "05/21/2024  05:49 PM         3,776,114 Research Proposal- Session 8.pdf\n",
      "05/21/2024  05:48 PM         3,082,842 ResMethods - Session2-5.pdf\n",
      "05/04/2024  10:20 PM            57,305 Resume.pdf\n",
      "05/06/2024  11:14 PM           274,560 Rev.mp3\n",
      "04/22/2024  12:18 PM            62,886 Robin%20Hood%20Case.pdf\n",
      "03/08/2024  05:28 PM           200,623 Roots of Quadratic Equations_4.pdf\n",
      "09/18/2024  11:15 AM            17,078 Rprogramming.qmd\n",
      "09/19/2024  01:37 PM             2,425 RProject (1).Rmd\n",
      "09/19/2024  01:38 PM           212,084 RProject.pdf\n",
      "09/18/2024  10:56 AM             2,425 RProject.Rmd\n",
      "09/19/2024  01:37 PM             2,425 RProject2.Rmd\n",
      "07/19/2024  07:02 PM       262,789,040 RStudio-2024.04.2-764.exe\n",
      "09/12/2024  10:54 AM               648 s2.sh\n",
      "09/12/2024  10:54 AM               519 s3.sh\n",
      "09/12/2024  10:54 AM               411 script.sh\n",
      "06/10/2024  12:25 PM           450,728 SDI_Update (1).torrent\n",
      "06/10/2024  12:25 PM           450,728 SDI_Update.torrent\n",
      "06/18/2024  06:00 AM            46,406 SECTION A 2 HW.pdf\n",
      "06/18/2024  05:56 AM            52,314 SECTION A HW.pdf\n",
      "06/18/2024  05:58 AM            46,596 SECTION B HW.pdf\n",
      "03/23/2024  05:32 PM         3,996,073 selected transcribed audios.xlsx\n",
      "03/26/2024  05:10 PM            14,544 SIGNATURE.jpg\n",
      "09/26/2024  12:15 PM    <DIR>          simplestats\n",
      "03/08/2024  05:28 PM           123,884 Simultaneous Equations_1.pdf\n",
      "04/29/2024  05:46 PM            75,137 SIS.jpg\n",
      "04/25/2024  12:04 PM         1,151,331 Slides Live Session 1.pdf\n",
      "04/25/2024  12:37 PM         1,355,260 Slides Live Session 2.pdf\n",
      "04/25/2024  12:48 PM         2,170,996 Slides Live Session 3.pdf\n",
      "03/10/2024  02:41 PM           113,978 Task.pdf\n",
      "09/25/2024  12:21 PM                74 text.txt\n",
      "02/25/2024  08:34 AM        15,135,261 The 5 lb. Book of GRE Practice Problems (2nd Edition) by Manhattan Prep.pdf\n",
      "04/26/2024  04:09 PM            24,126 TTT(12).html\n",
      "09/14/2024  04:07 PM            28,698 TwoPolyg.jpg\n",
      "09/14/2024  04:33 PM            16,510 TwoPolyg1.jpg\n",
      "09/14/2024  04:48 PM            23,660 TwoPolyg2.jpg\n",
      "09/14/2024  05:06 PM            28,600 TwoPolyg3.jpg\n",
      "06/13/2024  08:43 PM           741,482 UGBS 612 SEM II 2020-2021.pdf\n",
      "07/28/2024  10:57 AM           110,201 UGRC110-ONLINE-EXAM-2020.pdf\n",
      "03/02/2024  08:01 PM            83,637 UNIVERSITY OF GHANA CERTIFICATE.pdf\n",
      "04/04/2024  11:20 PM            47,157 Untitled 1.png\n",
      "04/17/2024  06:34 PM               176 Untitled-5.py\n",
      "09/26/2024  08:05 PM           388,526 version_control_local.ipynb\n",
      "09/20/2024  10:22 AM            77,729 vertopal.com_godwin_kluste_ICLRP.pdf\n",
      "03/25/2024  05:19 PM    <DIR>          Video\n",
      "03/02/2024  08:01 PM           177,861 WASSCE CERTIFICATE.pdf\n",
      "03/02/2024  08:01 PM            87,923 WhatsApp Image 2024-03-02 at 19.59.24_3791ff91.jpg\n",
      "09/17/2024  05:19 PM           286,960 WhatsApp Image 2024-09-17 at 17.19.38_6b1f283b.jpg\n",
      "09/26/2024  06:19 PM           204,710 WhatsApp Image 2024-09-26 at 18.19.34_1be431e6.jpg\n",
      "09/01/2024  12:34 PM         5,590,131 Worksheet 1A (1).pdf\n",
      "09/01/2024  12:32 PM         8,965,629 Worksheet 1B (1).pdf\n",
      "08/08/2024  07:48 AM            23,039 xinput1_3_x86.zip\n",
      "09/03/2024  07:35 AM            64,397 YFCard.jpg\n",
      "04/26/2024  08:25 AM            87,491 YouLose.mp3\n",
      "04/26/2024  08:25 AM            16,634 YouWon.mp3\n",
      "06/03/2024  07:19 PM         2,871,228 Z8P8S5_Mathematical_Finance.pdf\n",
      "04/25/2024  12:04 PM           137,032 Zoom_cm_fk4rwMtku85fZ9vvrZo4_mopxD-vLaRDq2q-wqKhplA7ZipQzDjOIjASVs@THanI7aURafO4wQ+_k02b646bfb8c7d6ae_.exe\n",
      "             394 File(s)  4,205,667,205 bytes\n",
      "              18 Dir(s)  140,969,893,888 bytes free\n"
     ]
    }
   ],
   "source": [
    "!dir"
   ]
  },
  {
   "cell_type": "code",
   "execution_count": 15,
   "metadata": {},
   "outputs": [],
   "source": [
    "! git diff HEAD -- [path]"
   ]
  },
  {
   "cell_type": "code",
   "execution_count": null,
   "metadata": {},
   "outputs": [],
   "source": []
  },
  {
   "cell_type": "markdown",
   "metadata": {},
   "source": [
    "To see what IS staged for commit (that is, what will be committed if you\n",
    "type git commit without the -a flag), you can try :\n",
    "```bash\n",
    "$ git diff --cached\n",
    "```"
   ]
  },
  {
   "cell_type": "code",
   "execution_count": 16,
   "metadata": {},
   "outputs": [],
   "source": [
    "! git diff --cached"
   ]
  },
  {
   "cell_type": "markdown",
   "metadata": {
    "id": "181eb736"
   },
   "source": [
    "## git log : Viewing the History\n",
    "\n",
    "A log of the commit messages is kept by the repository and can be\n",
    "reviewed with the log command.\n",
    "\n",
    "```bash\n",
    "    $ git log       \n",
    "   commit 664867c42a05461702388310155b785a287d0308 (HEAD -> master)\n",
    "    Author: Techni Preneurs <ai.technipreneurs@gmail.com>\n",
    "    Date:   Wed Sep 11 20:31:07 2024 +0200\n",
    "\n",
    "        This is the first commit. It adds a readme file.    \n",
    "```\n"
   ]
  },
  {
   "cell_type": "code",
   "execution_count": null,
   "metadata": {},
   "outputs": [],
   "source": []
  },
  {
   "cell_type": "markdown",
   "metadata": {},
   "source": [
    "There are some useful flags for this command, such as\n",
    "\n",
    "    -p\n",
    "    -3\n",
    "    --stat\n",
    "    --oneline\n",
    "    --graph\n",
    "    --pretty=short/full/fuller/oneline\n",
    "    --since=X.minutes/hours/days/weeks/months/years or YY-MM-DD-HH:MM\n",
    "    --until=X.minutes/hours/days/weeks/months/years or YY-MM-DD-HH:MM\n",
    "    --author=<pattern>"
   ]
  },
  {
   "cell_type": "markdown",
   "metadata": {
    "id": "8f0edce4"
   },
   "source": [
    "## git reset : Unstaging a staged file\n",
    "\n",
    "There are a number of ways that you may accidentally stage a file that\n",
    "you don't want to commit.  Create a file called `temp_notes` that\n",
    "describes what you had for breakfast, and then add that file to your\n",
    "repo.  Check with `status` to see that it is added but not committed.\n",
    "\n",
    "You can now unstage that file with:\n",
    "\n",
    "```bash\n",
    "$ git reset temp_notes\n",
    "```\n",
    "\n",
    "Check with `status`."
   ]
  },
  {
   "cell_type": "code",
   "execution_count": 32,
   "metadata": {},
   "outputs": [],
   "source": [
    "!echo \"I had tea for breakfast.\" > temp_notes"
   ]
  },
  {
   "cell_type": "code",
   "execution_count": 33,
   "metadata": {},
   "outputs": [],
   "source": [
    "!git add temp_notes"
   ]
  },
  {
   "cell_type": "code",
   "execution_count": 34,
   "metadata": {},
   "outputs": [
    {
     "name": "stdout",
     "output_type": "stream",
     "text": [
      "On branch master\n",
      "Changes to be committed:\n",
      "  (use \"git restore --staged <file>...\" to unstage)\n",
      "\tnew file:   temp_notes\n",
      "\n",
      "Changes not staged for commit:\n",
      "  (use \"git add <file>...\" to update what will be committed)\n",
      "  (use \"git restore <file>...\" to discard changes in working directory)\n",
      "\tmodified:   .ipynb_checkpoints/version_control_local-checkpoint.ipynb\n",
      "\tmodified:   version_control_local.ipynb\n",
      "\n"
     ]
    }
   ],
   "source": [
    "!git status"
   ]
  },
  {
   "cell_type": "code",
   "execution_count": 35,
   "metadata": {},
   "outputs": [],
   "source": [
    "!git add temp_notes"
   ]
  },
  {
   "cell_type": "code",
   "execution_count": 36,
   "metadata": {},
   "outputs": [
    {
     "name": "stdout",
     "output_type": "stream",
     "text": [
      "Unstaged changes after reset:\n",
      "M\t.ipynb_checkpoints/version_control_local-checkpoint.ipynb\n",
      "M\tversion_control_local.ipynb\n"
     ]
    }
   ],
   "source": [
    "! git reset temp_notes"
   ]
  },
  {
   "cell_type": "markdown",
   "metadata": {
    "id": "f949535f"
   },
   "source": [
    "## git checkout : Discarding unstaged modifications (git checkout has other purposes)\n",
    "\n",
    "Perhaps you have made a number of changes that you realize are not\n",
    "going anywhere.  Add a line to `README.md` that describes your dinner\n",
    "last night.  Check with `status` to see that the file is changed and\n",
    "ready to be added.\n",
    "\n",
    "You can now return to previous checked in version with:\n",
    "```bash\n",
    "$ git checkout -- README.md\n",
    "```\n",
    "Check with `status` and take a look at the file."
   ]
  },
  {
   "cell_type": "code",
   "execution_count": 61,
   "metadata": {},
   "outputs": [],
   "source": [
    "!echo \"I had yam for dinner.\" > README.md"
   ]
  },
  {
   "cell_type": "code",
   "execution_count": 62,
   "metadata": {},
   "outputs": [
    {
     "name": "stdout",
     "output_type": "stream",
     "text": [
      "On branch master\n",
      "Changes not staged for commit:\n",
      "  (use \"git add <file>...\" to update what will be committed)\n",
      "  (use \"git restore <file>...\" to discard changes in working directory)\n",
      "\tmodified:   .ipynb_checkpoints/version_control_local-checkpoint.ipynb\n",
      "\tmodified:   version_control_local.ipynb\n",
      "\n",
      "Untracked files:\n",
      "  (use \"git add <file>...\" to include in what will be committed)\n",
      "\tREADME.md\n",
      "\tREADYOU.md\n",
      "\ttemp_notes\n",
      "\n",
      "no changes added to commit (use \"git add\" and/or \"git commit -a\")\n"
     ]
    }
   ],
   "source": [
    "!git status"
   ]
  },
  {
   "cell_type": "code",
   "execution_count": 65,
   "metadata": {},
   "outputs": [],
   "source": [
    "!git add README.md"
   ]
  },
  {
   "cell_type": "code",
   "execution_count": 66,
   "metadata": {},
   "outputs": [],
   "source": [
    "!git checkout -- README.md"
   ]
  },
  {
   "cell_type": "markdown",
   "metadata": {
    "id": "7b00e29e"
   },
   "source": [
    "## git rm : Removing files\n",
    "\n",
    "There are a variety of reasons you way want to remove a file from the\n",
    "repository after it has been committed.  Create a file called `READYOU.md` with the first names of all your immediate family members, and add/commit it to the repository.\n",
    "\n",
    "You can now remove the file from the repository with:\n",
    "\n",
    "```bash\n",
    "$ git rm READYOU.md\n",
    "```\n",
    "List the directory to see that you have no file named `READYOU.md`. Use `status` to determine if you need any additional steps."
   ]
  },
  {
   "cell_type": "code",
   "execution_count": 68,
   "metadata": {},
   "outputs": [],
   "source": [
    "!echo \"Kwaku Kofi Afi\" > READYOU.md"
   ]
  },
  {
   "cell_type": "markdown",
   "metadata": {},
   "source": [
    "What if you delete a file in the shell without `git rm`? Try deleting `README.md`\n",
    "```bash\n",
    "$ rm README.md\n",
    "```\n",
    "\n",
    "\n"
   ]
  },
  {
   "cell_type": "code",
   "execution_count": 70,
   "metadata": {},
   "outputs": [
    {
     "name": "stdout",
     "output_type": "stream",
     "text": [
      "rm 'README.md'\n"
     ]
    }
   ],
   "source": [
    "!git rm -f README.md"
   ]
  },
  {
   "cell_type": "markdown",
   "metadata": {},
   "source": [
    "What does `git status` say?  Oops! How can you recover this important\n",
    "file?\n",
    "```bash\n",
    "$ git checkout -- README.md\n",
    "```"
   ]
  },
  {
   "cell_type": "markdown",
   "metadata": {
    "id": "1d3ecc05"
   },
   "source": [
    "## git revert : the promised \"undo\" button\n",
    "\n",
    "It is possible that after many commits, you decide that you really want to **rollback** a set of commits and start over.  It is easy to revert your code to a previous version.\n",
    "\n",
    "You can use `git log` and `git diff` to explore your history and determine which version you are interested in.  Choose a version and note the *hash* for that version. (Let's assume `abc456`)\n",
    "\n",
    "```bash\n",
    "$ git revert abc456\n",
    "```\n",
    "\n",
    "**Importantly,** this will not erase the intervening commits.  This will create a new commit that is changed from the previous commit by a change that will recreate the desired version.  This retains a complete provenance of your software, and be compared to the prohibition in removing pages from a lab notebook."
   ]
  },
  {
   "cell_type": "code",
   "execution_count": 75,
   "metadata": {},
   "outputs": [
    {
     "name": "stderr",
     "output_type": "stream",
     "text": [
      "fatal: bad revision 'abc456'\n"
     ]
    }
   ],
   "source": [
    "! git revert abc456"
   ]
  },
  {
   "cell_type": "markdown",
   "metadata": {},
   "source": [
    "## Visualize Git Log Tree\n",
    "For this section, you can read the necessary information [here](https://tech.serhatteker.com/post/2021-02/git-log-tree/). The idea is just to make your commits a bit fancy. To really see the beauty of it, try to play with your files and do quite a number of commits.\n",
    "\n",
    "```bash\n",
    "$ git log\n",
    "```\n",
    "\n",
    "or \n",
    "\n",
    "```bash\n",
    "$ git log --pretty=oneline\n",
    "```\n",
    "\n",
    "or\n",
    "\n",
    "```bash\n",
    "$ git log --graph --pretty='%Cred%h%Creset -%C(auto)%d%Creset %s %Cgreen(%cr) %C(bold blue)<%an>%Creset' --all\n",
    "```"
   ]
  },
  {
   "cell_type": "code",
   "execution_count": 74,
   "metadata": {},
   "outputs": [
    {
     "name": "stdout",
     "output_type": "stream",
     "text": [
      "commit 35db98ad3e66d23f44d74cca02e35d5f83880e1b\n",
      "Author: GODWIN KOFI KLUTSE <godwin.kluste@aims.ac.rw>\n",
      "Date:   Thu Sep 26 20:05:55 2024 +0000\n",
      "\n",
      "    Initial commit\n",
      "\n",
      "commit eb19ee739ceab55994b4281353cca769c992bf31\n",
      "Author: GODWIN KOFI KLUTSE <godwin.kluste@aims.ac.rw>\n",
      "Date:   Thu Sep 26 20:05:06 2024 +0000\n",
      "\n",
      "    Initial commit\n"
     ]
    }
   ],
   "source": [
    "! git log"
   ]
  },
  {
   "cell_type": "markdown",
   "metadata": {
    "id": "a60621d6"
   },
   "source": [
    "* * * *\n",
    "### Exercise :\n",
    "\n",
    "1. Create 5 files in your directory with one line of content in each\n",
    "   file.\n",
    "2. Commit the files to the repository.\n",
    "3. Change 2 of the 5 files and commit them.\n",
    "4. Undo the changes in step 3.\n",
    "5. Print out the last entry in the log.\n",
    "    \n",
    "* * * *"
   ]
  },
  {
   "cell_type": "code",
   "execution_count": 76,
   "metadata": {},
   "outputs": [],
   "source": [
    "file_names = [\"file1.txt\", \"file2.txt\", \"file3.txt\", \"file4.txt\", \"file5.txt\"]\n",
    "content = [\"Line 1 of file1\", \"Line 1 of file2\", \"Line 1 of file3\", \"Line 1 of file4\", \"Line 1 of file5\"]\n",
    "\n",
    "for file_name, line in zip(file_names, content):\n",
    "    with open(file_name, \"w\") as f:\n",
    "        f.write(line)\n"
   ]
  },
  {
   "cell_type": "code",
   "execution_count": 77,
   "metadata": {},
   "outputs": [
    {
     "name": "stdout",
     "output_type": "stream",
     "text": [
      "Reinitialized existing Git repository in C:/Users/HP/Downloads/.git/\n",
      "[master 3653063] Initial commit of 5 files\n",
      " 5 files changed, 5 insertions(+)\n",
      " create mode 100644 file1.txt\n",
      " create mode 100644 file2.txt\n",
      " create mode 100644 file3.txt\n",
      " create mode 100644 file4.txt\n",
      " create mode 100644 file5.txt\n"
     ]
    }
   ],
   "source": [
    "!git init\n",
    "\n",
    "!git add file1.txt file2.txt file3.txt file4.txt file5.txt\n",
    "\n",
    "!git commit -m \"Initial commit of 5 files\"\n"
   ]
  },
  {
   "cell_type": "code",
   "execution_count": 78,
   "metadata": {},
   "outputs": [],
   "source": [
    "with open(\"file2.txt\", \"w\") as f:\n",
    "    f.write(\"Updated content in file2\")\n",
    "\n",
    "with open(\"file4.txt\", \"w\") as f:\n",
    "    f.write(\"Updated content in file4\")\n"
   ]
  },
  {
   "cell_type": "code",
   "execution_count": 79,
   "metadata": {},
   "outputs": [
    {
     "name": "stdout",
     "output_type": "stream",
     "text": [
      "[master 5ab7539] Modified file2 and file4\n",
      " 2 files changed, 2 insertions(+), 2 deletions(-)\n"
     ]
    }
   ],
   "source": [
    "!git add file2.txt file4.txt\n",
    "\n",
    "!git commit -m \"Modified file2 and file4\"\n"
   ]
  },
  {
   "cell_type": "code",
   "execution_count": 80,
   "metadata": {},
   "outputs": [],
   "source": [
    "!git reset --soft HEAD~1"
   ]
  },
  {
   "cell_type": "code",
   "execution_count": 81,
   "metadata": {},
   "outputs": [
    {
     "name": "stdout",
     "output_type": "stream",
     "text": [
      "commit 3653063d7a3d95ad93b5bc006676c9612a5ec7af\n",
      "Author: GODWIN KOFI KLUTSE <godwin.kluste@aims.ac.rw>\n",
      "Date:   Thu Sep 26 22:43:52 2024 +0000\n",
      "\n",
      "    Initial commit of 5 files\n"
     ]
    }
   ],
   "source": [
    "!git log -1"
   ]
  },
  {
   "cell_type": "markdown",
   "metadata": {
    "id": "15b9e659"
   },
   "source": [
    "## Resources\n",
    "\n",
    "1. [git book](http://git-scm.com/book) - Free and Open"
   ]
  }
 ],
 "metadata": {
  "colab": {
   "provenance": []
  },
  "kernelspec": {
   "display_name": "Python 3 (ipykernel)",
   "language": "python",
   "name": "python3"
  },
  "language_info": {
   "codemirror_mode": {
    "name": "ipython",
    "version": 3
   },
   "file_extension": ".py",
   "mimetype": "text/x-python",
   "name": "python",
   "nbconvert_exporter": "python",
   "pygments_lexer": "ipython3",
   "version": "3.12.4"
  }
 },
 "nbformat": 4,
 "nbformat_minor": 4
}
