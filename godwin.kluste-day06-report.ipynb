{
 "cells": [
  {
   "cell_type": "markdown",
   "id": "c46d4200",
   "metadata": {},
   "source": [
    "### 1(i) ODD"
   ]
  },
  {
   "cell_type": "code",
   "execution_count": 5,
   "id": "93a3f9be",
   "metadata": {},
   "outputs": [
    {
     "name": "stdout",
     "output_type": "stream",
     "text": [
      "Write any natural number:5\n",
      "4\n"
     ]
    }
   ],
   "source": [
    "n = int(input('Write any natural number:'))\n",
    "sum = 0\n",
    "i = 0\n",
    "while (i < n):\n",
    "    if (i%2 == 1): \n",
    "        sum = sum + i\n",
    "        i = i + 1\n",
    "    else:\n",
    "        i = i+1\n",
    "print(sum)"
   ]
  },
  {
   "cell_type": "markdown",
   "id": "c4fda53d",
   "metadata": {},
   "source": [
    "### 1(ii) EVEN"
   ]
  },
  {
   "cell_type": "code",
   "execution_count": 7,
   "id": "54a578ba",
   "metadata": {},
   "outputs": [
    {
     "name": "stdout",
     "output_type": "stream",
     "text": [
      "Write any natural number:5\n",
      "6\n"
     ]
    }
   ],
   "source": [
    "n = int(input('Write any natural number:'))\n",
    "sum = 0\n",
    "i = 0\n",
    "while (i < n):\n",
    "    if (i%2 == 0): \n",
    "        sum = sum + i\n",
    "        i = i + 1\n",
    "    else:\n",
    "        i = i+1\n",
    "print(sum)"
   ]
  },
  {
   "cell_type": "markdown",
   "id": "69d97612",
   "metadata": {},
   "source": [
    "### 2 Day of the Week"
   ]
  },
  {
   "cell_type": "code",
   "execution_count": 14,
   "id": "2d625cf6",
   "metadata": {},
   "outputs": [
    {
     "name": "stdout",
     "output_type": "stream",
     "text": [
      "Please input the number of the day of the week:5\n",
      "Friday\n"
     ]
    }
   ],
   "source": [
    "day = int(input('Please input the number of the day of the week:'))\n",
    "if (day == 0):\n",
    "    print('Weekend')\n",
    "elif (day == 1):\n",
    "    print('Monday')\n",
    "elif (day == 2):\n",
    "     print('Tuesday')\n",
    "elif (day == 3):\n",
    "    print('WEdnesday')\n",
    "elif (day == 4):\n",
    "    print('Thursday')\n",
    "elif (day == 5):\n",
    "     print('Friday')\n",
    "elif (day == 6):\n",
    "    print('Saturday')\n",
    "else:\n",
    "    print('Input a number between 0 and 6')\n"
   ]
  },
  {
   "cell_type": "markdown",
   "id": "1e7a4490",
   "metadata": {},
   "source": [
    "### 3 Number of days of the monrth"
   ]
  },
  {
   "cell_type": "code",
   "execution_count": 16,
   "id": "bff9b5aa",
   "metadata": {},
   "outputs": [
    {
     "name": "stdout",
     "output_type": "stream",
     "text": [
      "PLease input month number:8\n",
      "30 days\n"
     ]
    }
   ],
   "source": [
    "month = {'January':31, 'Febuary':28, 'March':31, 'April':30, 'May':31, 'June':30, 'July':31, 'August':31, 'September':30, 'October':31, 'November':30, 'December':31}\n",
    "month_number = int(input('PLease input month number:'))\n",
    "if (month_number == 0):\n",
    "    print(month['January'], 'days')\n",
    "elif (month_number == 1):\n",
    "    print(month['Febuary'], 'days')\n",
    "elif (month_number == 2):\n",
    "    print(month['March'], 'days')\n",
    "elif (month_number == 3):\n",
    "    print(month['April'], 'days')\n",
    "elif (month_number == 4):\n",
    "    print(month['May'], 'days')\n",
    "elif (month_number == 5):\n",
    "    print(month['June'], 'days')\n",
    "elif (month_number == 6):\n",
    "    print(month['July'], 'days')\n",
    "elif (month_number == 7):\n",
    "    print(month['August'], 'days')\n",
    "elif (month_number == 8):\n",
    "    print(month['September'], 'days')\n",
    "elif (month_number == 9):\n",
    "    print(month['October'], 'days')\n",
    "elif (month_number == 10):\n",
    "    print(month['November'], 'days')\n",
    "elif (month_number == 11):\n",
    "    print(month['December'], 'days')\n",
    "else:\n",
    "    print('Input a number between 0 and 11')"
   ]
  },
  {
   "cell_type": "markdown",
   "id": "f0f1c442",
   "metadata": {},
   "source": [
    "### 4 For Loop"
   ]
  },
  {
   "cell_type": "code",
   "execution_count": 19,
   "id": "731c4d32",
   "metadata": {},
   "outputs": [
    {
     "name": "stdout",
     "output_type": "stream",
     "text": [
      "KLutse Godwin\n",
      "KLutse Godwin\n",
      "KLutse Godwin\n"
     ]
    }
   ],
   "source": [
    "for i in range(3):\n",
    "    print('KLutse Godwin')"
   ]
  },
  {
   "cell_type": "markdown",
   "id": "fd20c23e",
   "metadata": {},
   "source": [
    "### While Loop"
   ]
  },
  {
   "cell_type": "code",
   "execution_count": 23,
   "id": "69e32e68",
   "metadata": {},
   "outputs": [
    {
     "name": "stdout",
     "output_type": "stream",
     "text": [
      "KLutse Godwin\n",
      "KLutse Godwin\n",
      "KLutse Godwin\n"
     ]
    }
   ],
   "source": [
    "i = 0\n",
    "while i < 3:\n",
    "    print('KLutse Godwin')\n",
    "    i = i+1"
   ]
  },
  {
   "cell_type": "markdown",
   "id": "b729a8cd",
   "metadata": {},
   "source": [
    "### 5 Sequence"
   ]
  },
  {
   "cell_type": "code",
   "execution_count": 30,
   "id": "a428f12d",
   "metadata": {},
   "outputs": [
    {
     "name": "stdout",
     "output_type": "stream",
     "text": [
      "PLease input a number:1\n",
      "Please input another number:1\n",
      "1\n",
      "1\n",
      "2\n",
      "3\n",
      "5\n",
      "8\n",
      "13\n",
      "21\n",
      "34\n",
      "55\n",
      "89\n",
      "144\n",
      "233\n",
      "377\n",
      "610\n"
     ]
    }
   ],
   "source": [
    "a_0 = int(input('PLease input a number:'))\n",
    "a_1 = int(input('Please input another number:'))\n",
    "i = 2\n",
    "sum_list = [a_0, a_1]\n",
    "while i < 15:\n",
    "    temporal = sum_list[i-2] + sum_list[i-1]\n",
    "    sum_list.append(temporal)\n",
    "    i = i + 1\n",
    "\n",
    "for x in sum_list:\n",
    "    print(x)"
   ]
  },
  {
   "cell_type": "markdown",
   "id": "1718f65e",
   "metadata": {},
   "source": [
    "### 6 Sequence"
   ]
  },
  {
   "cell_type": "code",
   "execution_count": 31,
   "id": "232884af",
   "metadata": {},
   "outputs": [
    {
     "name": "stdout",
     "output_type": "stream",
     "text": [
      "Please input a number: 1\n",
      "Please input another number: 1\n",
      "1\n",
      "1\n",
      "3.5\n",
      "4.75\n",
      "12.875\n",
      "20.6875\n",
      "48.96875\n",
      "86.546875\n",
      "190.1796875\n",
      "354.73046875\n",
      "747.904296875\n",
      "1438.1435546875\n",
      "2962.78466796875\n",
      "5795.822998046875\n",
      "11786.265502929688\n",
      "23280.60174560547\n",
      "46999.0973815918\n",
      "93341.3539276123\n",
      "187667.96910858154\n",
      "373858.0463371277\n",
      "749932.9304943085\n",
      "1496540.6042585373\n",
      "2998069.093612194\n",
      "5988656.359581709\n",
      "11988535.460627437\n",
      "23960236.809058845\n",
      "47945724.78641173\n",
      "95853572.8203824\n",
      "191763960.7694264\n",
      "383442698.84586036\n"
     ]
    }
   ],
   "source": [
    "x_0 = int(input('Please input a number: '))\n",
    "x_1 = int(input('Please input another number: '))\n",
    "current_list = [x_0, x_1]\n",
    "i = 2\n",
    "while i < 30:\n",
    "    temporal = (6*current_list[i-2] + current_list[i-1])*0.5\n",
    "    current_list.append(temporal)\n",
    "    i = i+1\n",
    "    \n",
    "for x in current_list:\n",
    "    print(x)"
   ]
  },
  {
   "cell_type": "markdown",
   "id": "b7ff36ce",
   "metadata": {},
   "source": [
    "### 7(a)"
   ]
  },
  {
   "cell_type": "code",
   "execution_count": 38,
   "id": "d811bdd2",
   "metadata": {},
   "outputs": [
    {
     "name": "stdout",
     "output_type": "stream",
     "text": [
      "Please input a year: 2024\n",
      "2024 is a leap year\n"
     ]
    }
   ],
   "source": [
    "year = int(input('Please input a year: '))\n",
    "if (year%4 == 0 and year%100 != 0) or (year%400 == 0) :\n",
    "    print(year, 'is a leap year')\n",
    "else:\n",
    "    print(year, 'is not a leap year')"
   ]
  },
  {
   "cell_type": "markdown",
   "id": "eb4594c6",
   "metadata": {},
   "source": [
    "### 7(b)"
   ]
  },
  {
   "cell_type": "code",
   "execution_count": 39,
   "id": "5c46a63a",
   "metadata": {},
   "outputs": [
    {
     "name": "stdout",
     "output_type": "stream",
     "text": [
      "Please input a year: 2024\n",
      "is 2024 a leap year? True\n"
     ]
    }
   ],
   "source": [
    "year = int(input('Please input a year: '))\n",
    "bool_year = (year%4 == 0 and year%100 != 0) or (year%400 == 0)\n",
    "print('is {} a leap year?'.format(year), bool_year)"
   ]
  },
  {
   "cell_type": "markdown",
   "id": "dfdb136e",
   "metadata": {},
   "source": [
    "### 8(a) For Loop"
   ]
  },
  {
   "cell_type": "code",
   "execution_count": 40,
   "id": "d683f8c8",
   "metadata": {},
   "outputs": [
    {
     "name": "stdout",
     "output_type": "stream",
     "text": [
      "Please input a natural number: 3\n",
      "14\n"
     ]
    }
   ],
   "source": [
    "n = int(input('Please input a natural number: '))\n",
    "sum = 0\n",
    "for i in range(n+1):\n",
    "    sum += i**2\n",
    "print(sum)"
   ]
  },
  {
   "cell_type": "markdown",
   "id": "17f55191",
   "metadata": {},
   "source": [
    "### 8(a) While loop"
   ]
  },
  {
   "cell_type": "code",
   "execution_count": 48,
   "id": "c60326c3",
   "metadata": {},
   "outputs": [
    {
     "name": "stdout",
     "output_type": "stream",
     "text": [
      "Please input a natural number: 3\n",
      "14\n"
     ]
    }
   ],
   "source": [
    "n = int(input('Please input a natural number: '))\n",
    "sum = 0\n",
    "i=1\n",
    "while i <= n:\n",
    "    sum += i**2\n",
    "    i = i+ 1\n",
    "print(sum)"
   ]
  },
  {
   "cell_type": "markdown",
   "id": "a02be113",
   "metadata": {},
   "source": [
    "#### 8(b) For loop"
   ]
  },
  {
   "cell_type": "code",
   "execution_count": 49,
   "id": "8d2f8784",
   "metadata": {},
   "outputs": [
    {
     "name": "stdout",
     "output_type": "stream",
     "text": [
      "Please input a natural number: 3\n",
      "2\n"
     ]
    }
   ],
   "source": [
    "n = int(input('Please input a natural number: '))\n",
    "sum = 0\n",
    "i = 1\n",
    "for i in range(n+1):\n",
    "    sum += i**2\n",
    "    if sum > n :\n",
    "        print(i)\n",
    "        break\n",
    "    else:\n",
    "        i = i+1"
   ]
  },
  {
   "cell_type": "markdown",
   "id": "d9329c7a",
   "metadata": {},
   "source": [
    "### 8(b) While loop"
   ]
  },
  {
   "cell_type": "code",
   "execution_count": 50,
   "id": "df8477f9",
   "metadata": {},
   "outputs": [
    {
     "name": "stdout",
     "output_type": "stream",
     "text": [
      "Please input a natural number: 3\n",
      "2\n"
     ]
    }
   ],
   "source": [
    "n = int(input('Please input a natural number: '))\n",
    "sum = 0\n",
    "i = 1\n",
    "while i <= n:\n",
    "    sum += i**2\n",
    "    if sum > n :\n",
    "        print(i)\n",
    "        break\n",
    "    else:\n",
    "        i = i+1"
   ]
  },
  {
   "cell_type": "markdown",
   "id": "38372ec7",
   "metadata": {},
   "source": [
    "### 9(a)"
   ]
  },
  {
   "cell_type": "code",
   "execution_count": 57,
   "id": "99a9fcef",
   "metadata": {},
   "outputs": [
    {
     "name": "stdout",
     "output_type": "stream",
     "text": [
      "Please input a natural number: 60\n",
      "1\n",
      "2\n",
      "3\n",
      "4\n",
      "5\n",
      "6\n",
      "10\n",
      "12\n",
      "15\n",
      "20\n",
      "30\n",
      "60\n"
     ]
    }
   ],
   "source": [
    "n = int(input('Please input a natural number: '))\n",
    "divisors_list = []\n",
    "i = 1\n",
    "while i <= n:\n",
    "    if (n%i == 0):\n",
    "        divisors_list.append(i)\n",
    "    i = i +1\n",
    "for x in divisors_list:\n",
    "    print(x)"
   ]
  },
  {
   "cell_type": "code",
   "execution_count": null,
   "id": "a1e3e2f9",
   "metadata": {},
   "outputs": [],
   "source": []
  }
 ],
 "metadata": {
  "kernelspec": {
   "display_name": "Python 3 (ipykernel)",
   "language": "python",
   "name": "python3"
  },
  "language_info": {
   "codemirror_mode": {
    "name": "ipython",
    "version": 3
   },
   "file_extension": ".py",
   "mimetype": "text/x-python",
   "name": "python",
   "nbconvert_exporter": "python",
   "pygments_lexer": "ipython3",
   "version": "3.12.4"
  }
 },
 "nbformat": 4,
 "nbformat_minor": 5
}
