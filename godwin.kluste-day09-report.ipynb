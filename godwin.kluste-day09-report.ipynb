{
 "cells": [
  {
   "cell_type": "markdown",
   "id": "86a1d345",
   "metadata": {},
   "source": [
    "# Qu 1"
   ]
  },
  {
   "cell_type": "code",
   "execution_count": 4,
   "id": "e7b86e67-6331-4935-9b4f-b48114df6f62",
   "metadata": {},
   "outputs": [],
   "source": [
    "import math"
   ]
  },
  {
   "cell_type": "code",
   "execution_count": 3,
   "id": "5bf1544d",
   "metadata": {},
   "outputs": [
    {
     "data": {
      "text/plain": [
       "66"
      ]
     },
     "execution_count": 3,
     "metadata": {},
     "output_type": "execute_result"
    }
   ],
   "source": [
    "def find_max(a, b):\n",
    "    if a > b:\n",
    "        return a\n",
    "    else:\n",
    "        return b\n",
    "\n",
    "find_max(10, 66)"
   ]
  },
  {
   "cell_type": "markdown",
   "id": "7fa58f1a",
   "metadata": {},
   "source": [
    "# Qu 2"
   ]
  },
  {
   "cell_type": "code",
   "execution_count": 4,
   "id": "4eeae123",
   "metadata": {},
   "outputs": [
    {
     "data": {
      "text/plain": [
       "9278"
      ]
     },
     "execution_count": 4,
     "metadata": {},
     "output_type": "execute_result"
    }
   ],
   "source": [
    "def find_max_of_three(a, b, c):\n",
    "    if (a > b and a > c):\n",
    "        return a\n",
    "    elif (b > a and b > c):\n",
    "        return b\n",
    "    else:\n",
    "        return c\n",
    "\n",
    "find_max_of_three(538, 363, 9278)"
   ]
  },
  {
   "cell_type": "markdown",
   "id": "25cb910e",
   "metadata": {},
   "source": [
    "# Qu 3"
   ]
  },
  {
   "cell_type": "code",
   "execution_count": 7,
   "id": "4906b2fd",
   "metadata": {},
   "outputs": [
    {
     "data": {
      "text/plain": [
       "3"
      ]
     },
     "execution_count": 7,
     "metadata": {},
     "output_type": "execute_result"
    }
   ],
   "source": [
    "def my_len(data):\n",
    "    l = 0\n",
    "    for k in data:\n",
    "        l += 1\n",
    "    return l\n",
    "\n",
    "my_len([1,2,444])"
   ]
  },
  {
   "cell_type": "markdown",
   "id": "edab78d5",
   "metadata": {},
   "source": [
    "# Qu 4"
   ]
  },
  {
   "cell_type": "code",
   "execution_count": 8,
   "id": "d752a3f4",
   "metadata": {},
   "outputs": [
    {
     "data": {
      "text/plain": [
       "False"
      ]
     },
     "execution_count": 8,
     "metadata": {},
     "output_type": "execute_result"
    }
   ],
   "source": [
    "def check_vowel(character):\n",
    "    list_vowels = ['a', 'e', 'i', 'o', 'u', 'A', 'E', 'I', 'O', 'U']\n",
    "    if character in list_vowels:\n",
    "        return True\n",
    "    else:\n",
    "        return False\n",
    "    \n",
    "check_vowel('c')"
   ]
  },
  {
   "cell_type": "markdown",
   "id": "4a51871d",
   "metadata": {},
   "source": [
    "# Qu 5"
   ]
  },
  {
   "cell_type": "code",
   "execution_count": 20,
   "id": "8297f597",
   "metadata": {},
   "outputs": [
    {
     "data": {
      "text/plain": [
       "'hohelollolo'"
      ]
     },
     "execution_count": 20,
     "metadata": {},
     "output_type": "execute_result"
    }
   ],
   "source": [
    "def encode(data):\n",
    "    new_data = ''\n",
    "    for x in data:\n",
    "        if not check_vowel(x):\n",
    "            new_data = new_data + x + 'o' + x\n",
    "        else:\n",
    "            new_data = new_data + x\n",
    "    return new_data\n",
    "\n",
    "encode('hello')"
   ]
  },
  {
   "cell_type": "markdown",
   "id": "a26bc74e",
   "metadata": {},
   "source": [
    "# Qu 6 (a)"
   ]
  },
  {
   "cell_type": "code",
   "execution_count": 13,
   "id": "fe162374",
   "metadata": {},
   "outputs": [
    {
     "data": {
      "text/plain": [
       "470"
      ]
     },
     "execution_count": 13,
     "metadata": {},
     "output_type": "execute_result"
    }
   ],
   "source": [
    "def sum_elements(data):\n",
    "    sum = 0\n",
    "    for k in data:\n",
    "        sum += k\n",
    "    return sum\n",
    "\n",
    "sum_elements([23,3,222,222])"
   ]
  },
  {
   "cell_type": "markdown",
   "id": "acc041b0",
   "metadata": {},
   "source": [
    "# Qu 6(b)"
   ]
  },
  {
   "cell_type": "code",
   "execution_count": 14,
   "id": "911c7173",
   "metadata": {},
   "outputs": [
    {
     "data": {
      "text/plain": [
       "12"
      ]
     },
     "execution_count": 14,
     "metadata": {},
     "output_type": "execute_result"
    }
   ],
   "source": [
    "def product_elements(data):\n",
    "    product = 1\n",
    "    for k in data:\n",
    "        product *= k\n",
    "    return product\n",
    "\n",
    "product_elements([2,2,3])"
   ]
  },
  {
   "cell_type": "markdown",
   "id": "6c085e5b",
   "metadata": {},
   "source": [
    "# Qu 7"
   ]
  },
  {
   "cell_type": "code",
   "execution_count": 19,
   "id": "7aa6c1e1",
   "metadata": {},
   "outputs": [
    {
     "data": {
      "text/plain": [
       "'olleh'"
      ]
     },
     "execution_count": 19,
     "metadata": {},
     "output_type": "execute_result"
    }
   ],
   "source": [
    "def reverse_string(data):\n",
    "    reversed_string = ''\n",
    "    i = 1\n",
    "    while i < (len(data)+1):\n",
    "        reversed_string = reversed_string + data[len(data) - i]\n",
    "        i = i + 1\n",
    "    return reversed_string\n",
    "\n",
    "reverse_string('hello')"
   ]
  },
  {
   "cell_type": "markdown",
   "id": "cfb041a9",
   "metadata": {},
   "source": [
    "# Qu 8"
   ]
  },
  {
   "cell_type": "code",
   "execution_count": 16,
   "id": "8f7d746d-e8ed-4938-895a-c94c77faa7e6",
   "metadata": {},
   "outputs": [
    {
     "data": {
      "text/plain": [
       "True"
      ]
     },
     "execution_count": 16,
     "metadata": {},
     "output_type": "execute_result"
    }
   ],
   "source": [
    "def check_palindrome(word):\n",
    "    l = len(word)\n",
    "    k = math.floor(l/2)\n",
    "    i = 0\n",
    "    while i < k:\n",
    "        if word[i] == word[l-i-1]:\n",
    "            if (i == k-1):\n",
    "                return True\n",
    "            i = i+1    \n",
    "        else:\n",
    "            return False\n",
    "\n",
    "check_palindrome('amma')"
   ]
  },
  {
   "cell_type": "markdown",
   "id": "a663b8b8-9946-4c55-8d16-2b242e6fc204",
   "metadata": {},
   "source": [
    "# Qu 9"
   ]
  },
  {
   "cell_type": "code",
   "execution_count": 18,
   "id": "821d6ba1-6a59-42ff-b8e3-d21d3b610a7c",
   "metadata": {},
   "outputs": [
    {
     "data": {
      "text/plain": [
       "True"
      ]
     },
     "execution_count": 18,
     "metadata": {},
     "output_type": "execute_result"
    }
   ],
   "source": [
    "def check_membership(value, your_list):\n",
    "    if value in your_list:\n",
    "        return True\n",
    "    else:\n",
    "        return False\n",
    "\n",
    "check_membership('Orange', ['Yam', 'Orange', 'Lime'])"
   ]
  },
  {
   "cell_type": "code",
   "execution_count": 21,
   "id": "8c28cbe4-0ab5-4b26-81a8-0891b0d71210",
   "metadata": {},
   "outputs": [],
   "source": [
    "# Qu10"
   ]
  },
  {
   "cell_type": "code",
   "execution_count": 22,
   "id": "462ffcb2-493b-4706-89ec-126526e9b4be",
   "metadata": {},
   "outputs": [
    {
     "data": {
      "text/plain": [
       "True"
      ]
     },
     "execution_count": 22,
     "metadata": {},
     "output_type": "execute_result"
    }
   ],
   "source": [
    "def check_overlap(list1, list2):\n",
    "    collection = []\n",
    "    i=0\n",
    "    while i < len(list1):\n",
    "        if list1[i] in list2:\n",
    "            collection.append(list1[i])\n",
    "        i = i + 1\n",
    "    if len(collection) > 0:\n",
    "        return True\n",
    "    else:\n",
    "        return False\n",
    "\n",
    "check_overlap([1, 22,54], [54, 33, 6])"
   ]
  },
  {
   "cell_type": "markdown",
   "id": "c8456b3b-0bdf-43c3-93dc-ca5ed8db50e8",
   "metadata": {},
   "source": [
    "# Qu 11"
   ]
  },
  {
   "cell_type": "code",
   "execution_count": 32,
   "id": "03a062b5-0a45-4cc6-bab8-d9f7e7081637",
   "metadata": {},
   "outputs": [
    {
     "data": {
      "text/plain": [
       "'aaaaaaaaaa'"
      ]
     },
     "execution_count": 32,
     "metadata": {},
     "output_type": "execute_result"
    }
   ],
   "source": [
    "def repeat_char(char, n):\n",
    "    return char * n\n",
    "\n",
    "repeat_char('a', 10)"
   ]
  },
  {
   "cell_type": "markdown",
   "id": "a406449e-eaae-4a97-bd7c-f8b2603d312c",
   "metadata": {},
   "source": [
    "# Qu 12"
   ]
  },
  {
   "cell_type": "code",
   "execution_count": 33,
   "id": "a3fbf09d-7e81-4307-b36a-48a1338e8756",
   "metadata": {},
   "outputs": [
    {
     "data": {
      "image/png": "[encoded data removed]",
      "text/plain": [
       "<Figure size 640x480 with 1 Axes>"
      ]
     },
     "metadata": {},
     "output_type": "display_data"
    }
   ],
   "source": [
    "import matplotlib.pyplot as plt\n",
    "def print_histogram(data):\n",
    "    plt.hist(data)\n",
    "    plt.show() \n",
    "\n",
    "print_histogram([5,3,2,3,3,4,7,1,2,5,7,5,8,1,9,4,6])"
   ]
  },
  {
   "cell_type": "markdown",
   "id": "726f531c-b094-4cf9-91a5-798658b1d468",
   "metadata": {},
   "source": [
    "# Qu 13"
   ]
  },
  {
   "cell_type": "code",
   "execution_count": 35,
   "id": "6c456879-c1b8-4b5d-8332-5eda1b551f49",
   "metadata": {},
   "outputs": [
    {
     "data": {
      "text/plain": [
       "1111"
      ]
     },
     "execution_count": 35,
     "metadata": {},
     "output_type": "execute_result"
    }
   ],
   "source": [
    "def find_max_in_list(data):\n",
    "    return max(data)\n",
    "\n",
    "find_max_in_list([2,33,44,55,1111,5])"
   ]
  },
  {
   "cell_type": "markdown",
   "id": "196e2701-df1e-4002-a01f-b25b579cd40e",
   "metadata": {},
   "source": [
    "# Qu 14"
   ]
  },
  {
   "cell_type": "code",
   "execution_count": 36,
   "id": "b70a9e14-1742-449d-9717-d906047efd85",
   "metadata": {},
   "outputs": [
    {
     "data": {
      "text/plain": [
       "{'Yam': 3, 'Orange': 6, 'Lime': 4}"
      ]
     },
     "execution_count": 36,
     "metadata": {},
     "output_type": "execute_result"
    }
   ],
   "source": [
    "def word_length(data):\n",
    "    myset = {}\n",
    "    for i in range(len(data)):\n",
    "        myset.update({data[i]:len(data[i])})\n",
    "    return myset\n",
    "\n",
    "word_length(['Yam', 'Orange', 'Lime'])"
   ]
  },
  {
   "cell_type": "markdown",
   "id": "b6858e51-b96d-406f-a7a2-f58ca7060dd2",
   "metadata": {},
   "source": [
    "# Qu 15"
   ]
  },
  {
   "cell_type": "code",
   "execution_count": 39,
   "id": "8e2e8ae1-f580-476c-b54e-a6d890fe6446",
   "metadata": {},
   "outputs": [
    {
     "data": {
      "text/plain": [
       "'Orange'"
      ]
     },
     "execution_count": 39,
     "metadata": {},
     "output_type": "execute_result"
    }
   ],
   "source": [
    "def longest_word(data):\n",
    "    mylist1 = []\n",
    "    for i in range(len(data)):\n",
    "        mylist1.append(len(data[i]))\n",
    "    maxvalue = max(mylist1)\n",
    "    findposition = mylist1.index(maxvalue)\n",
    "    return data[findposition]\n",
    "\n",
    "longest_word(['Yam', 'Orange', 'Lime'])"
   ]
  },
  {
   "cell_type": "code",
   "execution_count": null,
   "id": "d89cae46-5c16-4b7b-832b-9585267c8c77",
   "metadata": {},
   "outputs": [],
   "source": []
  }
 ],
 "metadata": {
  "kernelspec": {
   "display_name": "Python 3 (ipykernel)",
   "language": "python",
   "name": "python3"
  },
  "language_info": {
   "codemirror_mode": {
    "name": "ipython",
    "version": 3
   },
   "file_extension": ".py",
   "mimetype": "text/x-python",
   "name": "python",
   "nbconvert_exporter": "python",
   "pygments_lexer": "ipython3",
   "version": "3.12.4"
  }
 },
 "nbformat": 4,
 "nbformat_minor": 5
}
