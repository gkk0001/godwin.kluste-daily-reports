{
 "cells": [
  {
   "cell_type": "markdown",
   "id": "86a1d345",
   "metadata": {},
   "source": [
    "# Qu 1"
   ]
  },
  {
   "cell_type": "code",
   "execution_count": 3,
   "id": "5bf1544d",
   "metadata": {},
   "outputs": [
    {
     "data": {
      "text/plain": [
       "66"
      ]
     },
     "execution_count": 3,
     "metadata": {},
     "output_type": "execute_result"
    }
   ],
   "source": [
    "def find_max(a, b):\n",
    "    if a > b:\n",
    "        return a\n",
    "    else:\n",
    "        return b\n",
    "\n",
    "find_max(10, 66)"
   ]
  },
  {
   "cell_type": "markdown",
   "id": "7fa58f1a",
   "metadata": {},
   "source": [
    "# Qu 2"
   ]
  },
  {
   "cell_type": "code",
   "execution_count": 4,
   "id": "4eeae123",
   "metadata": {},
   "outputs": [
    {
     "data": {
      "text/plain": [
       "9278"
      ]
     },
     "execution_count": 4,
     "metadata": {},
     "output_type": "execute_result"
    }
   ],
   "source": [
    "def find_max_of_three(a, b, c):\n",
    "    if (a > b and a > c):\n",
    "        return a\n",
    "    elif (b > a and b > c):\n",
    "        return b\n",
    "    else:\n",
    "        return c\n",
    "\n",
    "find_max_of_three(538, 363, 9278)"
   ]
  },
  {
   "cell_type": "markdown",
   "id": "25cb910e",
   "metadata": {},
   "source": [
    "# Qu 3"
   ]
  },
  {
   "cell_type": "code",
   "execution_count": 7,
   "id": "4906b2fd",
   "metadata": {},
   "outputs": [
    {
     "data": {
      "text/plain": [
       "3"
      ]
     },
     "execution_count": 7,
     "metadata": {},
     "output_type": "execute_result"
    }
   ],
   "source": [
    "def my_len(data):\n",
    "    l = 0\n",
    "    for k in data:\n",
    "        l += 1\n",
    "    return l\n",
    "\n",
    "my_len([1,2,444])"
   ]
  },
  {
   "cell_type": "markdown",
   "id": "edab78d5",
   "metadata": {},
   "source": [
    "# Qu 4"
   ]
  },
  {
   "cell_type": "code",
   "execution_count": 8,
   "id": "d752a3f4",
   "metadata": {},
   "outputs": [
    {
     "data": {
      "text/plain": [
       "False"
      ]
     },
     "execution_count": 8,
     "metadata": {},
     "output_type": "execute_result"
    }
   ],
   "source": [
    "def check_vowel(character):\n",
    "    list_vowels = ['a', 'e', 'i', 'o', 'u', 'A', 'E', 'I', 'O', 'U']\n",
    "    if character in list_vowels:\n",
    "        return True\n",
    "    else:\n",
    "        return False\n",
    "    \n",
    "check_vowel('c')"
   ]
  },
  {
   "cell_type": "markdown",
   "id": "4a51871d",
   "metadata": {},
   "source": [
    "# Qu 5"
   ]
  },
  {
   "cell_type": "code",
   "execution_count": 20,
   "id": "8297f597",
   "metadata": {},
   "outputs": [
    {
     "data": {
      "text/plain": [
       "'hohelollolo'"
      ]
     },
     "execution_count": 20,
     "metadata": {},
     "output_type": "execute_result"
    }
   ],
   "source": [
    "def encode(data):\n",
    "    new_data = ''\n",
    "    for x in data:\n",
    "        if not check_vowel(x):\n",
    "            new_data = new_data + x + 'o' + x\n",
    "        else:\n",
    "            new_data = new_data + x\n",
    "    return new_data\n",
    "\n",
    "encode('hello')"
   ]
  },
  {
   "cell_type": "markdown",
   "id": "a26bc74e",
   "metadata": {},
   "source": [
    "# Qu 6 (a)"
   ]
  },
  {
   "cell_type": "code",
   "execution_count": 13,
   "id": "fe162374",
   "metadata": {},
   "outputs": [
    {
     "data": {
      "text/plain": [
       "470"
      ]
     },
     "execution_count": 13,
     "metadata": {},
     "output_type": "execute_result"
    }
   ],
   "source": [
    "def sum_elements(data):\n",
    "    sum = 0\n",
    "    for k in data:\n",
    "        sum += k\n",
    "    return sum\n",
    "\n",
    "sum_elements([23,3,222,222])"
   ]
  },
  {
   "cell_type": "markdown",
   "id": "acc041b0",
   "metadata": {},
   "source": [
    "# Qu 6(b)"
   ]
  },
  {
   "cell_type": "code",
   "execution_count": 14,
   "id": "911c7173",
   "metadata": {},
   "outputs": [
    {
     "data": {
      "text/plain": [
       "12"
      ]
     },
     "execution_count": 14,
     "metadata": {},
     "output_type": "execute_result"
    }
   ],
   "source": [
    "def product_elements(data):\n",
    "    product = 1\n",
    "    for k in data:\n",
    "        product *= k\n",
    "    return product\n",
    "\n",
    "product_elements([2,2,3])"
   ]
  },
  {
   "cell_type": "markdown",
   "id": "6c085e5b",
   "metadata": {},
   "source": [
    "# Qu 7"
   ]
  },
  {
   "cell_type": "code",
   "execution_count": 19,
   "id": "7aa6c1e1",
   "metadata": {},
   "outputs": [
    {
     "data": {
      "text/plain": [
       "'olleh'"
      ]
     },
     "execution_count": 19,
     "metadata": {},
     "output_type": "execute_result"
    }
   ],
   "source": [
    "def reverse_string(data):\n",
    "    reversed_string = ''\n",
    "    i = 1\n",
    "    while i < (len(data)+1):\n",
    "        reversed_string = reversed_string + data[len(data) - i]\n",
    "        i = i + 1\n",
    "    return reversed_string\n",
    "\n",
    "reverse_string('hello')"
   ]
  },
  {
   "cell_type": "markdown",
   "id": "cfb041a9",
   "metadata": {},
   "source": [
    "# Qu 8"
   ]
  }
 ],
 "metadata": {
  "kernelspec": {
   "display_name": "Python 3",
   "language": "python",
   "name": "python3"
  },
  "language_info": {
   "codemirror_mode": {
    "name": "ipython",
    "version": 3
   },
   "file_extension": ".py",
   "mimetype": "text/x-python",
   "name": "python",
   "nbconvert_exporter": "python",
   "pygments_lexer": "ipython3",
   "version": "3.9.2"
  }
 },
 "nbformat": 4,
 "nbformat_minor": 5
}
